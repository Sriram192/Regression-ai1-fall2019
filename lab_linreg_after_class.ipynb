{
  "nbformat": 4,
  "nbformat_minor": 0,
  "metadata": {
    "kernelspec": {
      "name": "python3",
      "display_name": "Python 3"
    },
    "language_info": {
      "mimetype": "text/x-python",
      "nbconvert_exporter": "python",
      "name": "python",
      "file_extension": ".py",
      "version": "3.6.8",
      "pygments_lexer": "ipython3",
      "codemirror_mode": {
        "version": 3,
        "name": "ipython"
      }
    },
    "anaconda-cloud": {},
    "nteract": {
      "version": "0.7.1"
    },
    "colab": {
      "name": "lab_linreg.ipynb",
      "provenance": []
    }
  },
  "cells": [
    {
      "cell_type": "markdown",
      "metadata": {
        "id": "yFMQ_R2dT3MI",
        "colab_type": "text"
      },
      "source": [
        "# Linear Regression Multiple Ways"
      ]
    },
    {
      "cell_type": "markdown",
      "metadata": {
        "id": "iC5G2sglT3MK",
        "colab_type": "text"
      },
      "source": [
        "## Making the data\n",
        "\n",
        "We'll first construct a synthetic data set..using a function from the `scikit-learn` library. Synthetic data is nice in the sense that we can constrain how the noise behaves, and thus isolate effects."
      ]
    },
    {
      "cell_type": "code",
      "metadata": {
        "id": "M3eXdH06T3ML",
        "colab_type": "code",
        "colab": {}
      },
      "source": [
        "%matplotlib inline\n",
        "from sklearn.datasets import make_regression\n",
        "import numpy as np\n",
        "import matplotlib.pyplot as plt"
      ],
      "execution_count": 0,
      "outputs": []
    },
    {
      "cell_type": "code",
      "metadata": {
        "id": "Tb7qSXBZT3MP",
        "colab_type": "code",
        "colab": {}
      },
      "source": [
        "#code adapted from http://tillbergmann.com/blog/python-gradient-descent.html\n",
        "X, y, coef = make_regression(n_samples = 100, \n",
        "                       n_features=1, \n",
        "                       noise=20,\n",
        "                       random_state=2018,\n",
        "                       coef=True)"
      ],
      "execution_count": 0,
      "outputs": []
    },
    {
      "cell_type": "code",
      "metadata": {
        "id": "2m2EoH8UrOM_",
        "colab_type": "code",
        "colab": {
          "base_uri": "https://localhost:8080/",
          "height": 34
        },
        "outputId": "9e65c5f2-97f1-470d-f1d5-27c4a0b38856"
      },
      "source": [
        "X.shape\n",
        "y.shape"
      ],
      "execution_count": 92,
      "outputs": [
        {
          "output_type": "execute_result",
          "data": {
            "text/plain": [
              "(100,)"
            ]
          },
          "metadata": {
            "tags": []
          },
          "execution_count": 92
        }
      ]
    },
    {
      "cell_type": "code",
      "metadata": {
        "id": "jgKr3VJrrVZJ",
        "colab_type": "code",
        "colab": {
          "base_uri": "https://localhost:8080/",
          "height": 1000
        },
        "outputId": "d5aee8a2-9325-4818-8a53-3b629fc21c4f"
      },
      "source": [
        "X,y"
      ],
      "execution_count": 93,
      "outputs": [
        {
          "output_type": "execute_result",
          "data": {
            "text/plain": [
              "(array([[-0.66853752],\n",
              "        [-0.30667657],\n",
              "        [ 1.33791644],\n",
              "        [ 0.42185431],\n",
              "        [ 1.30776377],\n",
              "        [-0.67073429],\n",
              "        [ 0.72887519],\n",
              "        [-0.68806479],\n",
              "        [-0.04269576],\n",
              "        [ 1.45438362],\n",
              "        [ 0.78704248],\n",
              "        [ 0.41208037],\n",
              "        [-0.77993308],\n",
              "        [ 2.14839926],\n",
              "        [-0.02305288],\n",
              "        [ 0.45326871],\n",
              "        [-0.30580386],\n",
              "        [ 0.581851  ],\n",
              "        [ 0.48408657],\n",
              "        [ 0.13530749],\n",
              "        [ 1.28273322],\n",
              "        [-1.05741884],\n",
              "        [-0.41355167],\n",
              "        [ 0.7847546 ],\n",
              "        [ 0.35407638],\n",
              "        [-0.77191826],\n",
              "        [ 0.06371017],\n",
              "        [ 0.04708372],\n",
              "        [-1.0656958 ],\n",
              "        [ 0.11007867],\n",
              "        [-1.65478408],\n",
              "        [ 0.37062839],\n",
              "        [ 1.0764461 ],\n",
              "        [-2.4561093 ],\n",
              "        [-0.0538778 ],\n",
              "        [-0.57568194],\n",
              "        [ 0.7047803 ],\n",
              "        [-1.60454294],\n",
              "        [ 0.17433269],\n",
              "        [-0.92808999],\n",
              "        [-0.01343378],\n",
              "        [-2.48607587],\n",
              "        [-0.36969037],\n",
              "        [-1.35177905],\n",
              "        [-0.79155701],\n",
              "        [-0.17279739],\n",
              "        [ 0.4866567 ],\n",
              "        [-0.27650109],\n",
              "        [-0.93373213],\n",
              "        [ 0.29353586],\n",
              "        [-1.54595798],\n",
              "        [ 0.18833414],\n",
              "        [-1.279487  ],\n",
              "        [ 0.7640837 ],\n",
              "        [-0.60577227],\n",
              "        [ 0.54663075],\n",
              "        [ 0.53069007],\n",
              "        [ 0.8381884 ],\n",
              "        [ 0.13375909],\n",
              "        [ 0.510221  ],\n",
              "        [ 1.54854343],\n",
              "        [ 0.50227689],\n",
              "        [ 0.00400008],\n",
              "        [-0.16513097],\n",
              "        [-0.98163553],\n",
              "        [ 0.43356408],\n",
              "        [-1.07636254],\n",
              "        [ 0.13812536],\n",
              "        [ 0.30916466],\n",
              "        [-0.35211721],\n",
              "        [ 1.89399983],\n",
              "        [-0.2767676 ],\n",
              "        [-0.80337487],\n",
              "        [ 0.41525259],\n",
              "        [-0.52361097],\n",
              "        [-1.58023087],\n",
              "        [-0.38393319],\n",
              "        [-0.18523126],\n",
              "        [-2.16572937],\n",
              "        [ 0.44879045],\n",
              "        [-0.51270362],\n",
              "        [ 0.93156589],\n",
              "        [-2.22118689],\n",
              "        [ 1.072796  ],\n",
              "        [ 0.28916512],\n",
              "        [ 0.40205692],\n",
              "        [ 1.23065512],\n",
              "        [ 0.37046313],\n",
              "        [ 0.04540116],\n",
              "        [-0.05889251],\n",
              "        [-1.21062488],\n",
              "        [-0.85183522],\n",
              "        [-0.14853359],\n",
              "        [-1.11900164],\n",
              "        [ 0.38037013],\n",
              "        [-0.28181885],\n",
              "        [ 0.8560293 ],\n",
              "        [-1.70663287],\n",
              "        [-0.75055969],\n",
              "        [-0.14279008]]),\n",
              " array([ -40.7541666 ,  -20.70305417,   67.88223898,   -0.75641518,\n",
              "          72.04927473,  -53.66515221,   47.88453072,  -50.00012546,\n",
              "         -19.90740861,  102.44743143,   55.84190753,   34.67663578,\n",
              "         -95.76181663,  166.32417478,  -48.89779425,   47.07442948,\n",
              "         -42.01849676,   62.64598977,   39.52643817,    2.79208333,\n",
              "          66.7438763 ,  -56.77677947,  -30.19989506,   68.89902737,\n",
              "          22.11087975,  -68.58177075,   14.81329566,    8.71022615,\n",
              "         -85.48348915,    9.46698038, -100.83972281,   52.74340948,\n",
              "          57.42409372, -213.06049755,   -9.23920006,  -50.92889516,\n",
              "          57.77432662, -110.42176707,   24.85317814,  -79.16254392,\n",
              "          24.71514121, -177.20203427,  -42.30606898, -107.37430149,\n",
              "         -26.58093699,  -27.11377597,   28.24565487,  -35.25345265,\n",
              "         -79.61531616,   11.31339521,  -78.96147235,   33.02332585,\n",
              "         -74.28056732,   73.97974042,  -44.73522365,   23.37305851,\n",
              "          66.70036974,   40.00346388,   24.73740321,   46.18487519,\n",
              "         112.45148097,   25.01674635,   -5.81400687,   -2.5247476 ,\n",
              "         -70.92480677,   26.11578153,  -82.32171894,   -7.74342906,\n",
              "          44.45726324,  -29.84059029,  143.62920174,  -19.36561598,\n",
              "         -42.16451876,   43.32315491,  -21.89423374,  -65.83616234,\n",
              "          -4.09099307,  -46.72479203, -129.18231182,    4.89333382,\n",
              "         -48.33964793,   97.62825877, -160.09848707,   80.30763803,\n",
              "           7.34190039,   25.55179042,   75.77309842,   43.39040637,\n",
              "          64.8041111 ,  -28.46156968, -108.33745389,  -59.1368332 ,\n",
              "          26.42778452, -112.89717161,   91.35014738,  -42.6485243 ,\n",
              "          87.15648222, -104.36596643,  -65.48562755,   17.00967594]))"
            ]
          },
          "metadata": {
            "tags": []
          },
          "execution_count": 93
        }
      ]
    },
    {
      "cell_type": "markdown",
      "metadata": {
        "id": "AViIT7PGT3MS",
        "colab_type": "text"
      },
      "source": [
        "Notice that the X is in the canonical array-of-arrays format.\n",
        "**Try and print its shape**"
      ]
    },
    {
      "cell_type": "markdown",
      "metadata": {
        "id": "A7MiOT35T3MV",
        "colab_type": "text"
      },
      "source": [
        "We are fitting a model with an intercept. Lets see what it is."
      ]
    },
    {
      "cell_type": "code",
      "metadata": {
        "id": "XplQfIMAT3MW",
        "colab_type": "code",
        "colab": {
          "base_uri": "https://localhost:8080/",
          "height": 34
        },
        "outputId": "be35e7d9-7829-4a77-d0c3-de9ee0c7476c"
      },
      "source": [
        "coef"
      ],
      "execution_count": 94,
      "outputs": [
        {
          "output_type": "execute_result",
          "data": {
            "text/plain": [
              "array(69.06406583)"
            ]
          },
          "metadata": {
            "tags": []
          },
          "execution_count": 94
        }
      ]
    },
    {
      "cell_type": "markdown",
      "metadata": {
        "id": "7v_WLXreT3MZ",
        "colab_type": "text"
      },
      "source": [
        "We can plot the data."
      ]
    },
    {
      "cell_type": "code",
      "metadata": {
        "id": "7O20TP9DT3Ma",
        "colab_type": "code",
        "colab": {
          "base_uri": "https://localhost:8080/",
          "height": 269
        },
        "outputId": "99c70499-d06d-4a51-a675-a5d6ee75276f"
      },
      "source": [
        "plt.plot(X,y, 'o');"
      ],
      "execution_count": 95,
      "outputs": [
        {
          "output_type": "display_data",
          "data": {
            "image/png": "[encoded data removed]",
            "text/plain": [
              "<Figure size 432x288 with 1 Axes>"
            ]
          },
          "metadata": {
            "tags": []
          }
        }
      ]
    },
    {
      "cell_type": "markdown",
      "metadata": {
        "id": "Bo6Xl8ECT3Mc",
        "colab_type": "text"
      },
      "source": [
        "For the purposes of drawing the regression line, lets create a uniform grid of points, and then reshape it into the canonical format"
      ]
    },
    {
      "cell_type": "code",
      "metadata": {
        "id": "zBBA1AmjT3Md",
        "colab_type": "code",
        "colab": {}
      },
      "source": [
        "xgrid = np.linspace(-2.5,2.5,1000)\n",
        "#linspace divides the extreme points (-25 to 25) into a grids of 1000 points in between\n",
        "Xgrid = xgrid.reshape(-1,1)\n",
        "#reshape just converts the size of the array"
      ],
      "execution_count": 0,
      "outputs": []
    },
    {
      "cell_type": "markdown",
      "metadata": {
        "id": "r2WfAVcXT3Mf",
        "colab_type": "text"
      },
      "source": [
        "## Fit using sklearn"
      ]
    },
    {
      "cell_type": "code",
      "metadata": {
        "id": "oM6B22KsT3Mg",
        "colab_type": "code",
        "colab": {}
      },
      "source": [
        "from sklearn.linear_model import LinearRegression"
      ],
      "execution_count": 0,
      "outputs": []
    },
    {
      "cell_type": "code",
      "metadata": {
        "id": "11qPDDTrT3Mj",
        "colab_type": "code",
        "colab": {}
      },
      "source": [
        "lr = LinearRegression()\n",
        "lr.fit(X,y)\n",
        "lr.coef_, lr.intercept_\n",
        "ypgrid = lr.predict(Xgrid)\n"
      ],
      "execution_count": 0,
      "outputs": []
    },
    {
      "cell_type": "code",
      "metadata": {
        "id": "xLRAROJ0T3Mm",
        "colab_type": "code",
        "colab": {
          "base_uri": "https://localhost:8080/",
          "height": 287
        },
        "outputId": "7b962e14-931e-40cb-92d5-7cafb404ea76"
      },
      "source": [
        "plt.plot(Xgrid, ypgrid)\n",
        "plt.plot(X, y, '.')"
      ],
      "execution_count": 99,
      "outputs": [
        {
          "output_type": "execute_result",
          "data": {
            "text/plain": [
              "[<matplotlib.lines.Line2D at 0x7f060a7d05c0>]"
            ]
          },
          "metadata": {
            "tags": []
          },
          "execution_count": 99
        },
        {
          "output_type": "display_data",
          "data": {
            "image/png": "[encoded data removed]",
            "text/plain": [
              "<Figure size 432x288 with 1 Axes>"
            ]
          },
          "metadata": {
            "tags": []
          }
        }
      ]
    },
    {
      "cell_type": "code",
      "metadata": {
        "id": "SeisXZSzT3Mp",
        "colab_type": "code",
        "colab": {}
      },
      "source": [
        "from sklearn.metrics import r2_score"
      ],
      "execution_count": 0,
      "outputs": []
    },
    {
      "cell_type": "code",
      "metadata": {
        "id": "BsFnqUfJT3Ms",
        "colab_type": "code",
        "colab": {
          "base_uri": "https://localhost:8080/",
          "height": 34
        },
        "outputId": "47bb595f-ba23-401d-c442-5635e9b4cdb1"
      },
      "source": [
        "r2_score(y, lr.predict(X))#finding R^2 on the same data we fit the model on"
      ],
      "execution_count": 101,
      "outputs": [
        {
          "output_type": "execute_result",
          "data": {
            "text/plain": [
              "0.911924455384811"
            ]
          },
          "metadata": {
            "tags": []
          },
          "execution_count": 101
        }
      ]
    },
    {
      "cell_type": "markdown",
      "metadata": {
        "id": "abVrmy00T3Mv",
        "colab_type": "text"
      },
      "source": [
        "## The impact of sample size\n",
        "\n",
        "We'll sample 20 points from the data set. We do this by sampling 20 indices, index into X and y, and then fit on the sample"
      ]
    },
    {
      "cell_type": "code",
      "metadata": {
        "id": "akmwMzaqT3Mv",
        "colab_type": "code",
        "colab": {
          "base_uri": "https://localhost:8080/",
          "height": 51
        },
        "outputId": "1ef271b4-df2d-425f-e47e-47736fc1620c"
      },
      "source": [
        "sample_indices = np.random.choice(range(100), size=20)\n",
        "sample_indices"
      ],
      "execution_count": 102,
      "outputs": [
        {
          "output_type": "execute_result",
          "data": {
            "text/plain": [
              "array([81, 42, 60, 87,  1, 21, 44, 16, 45, 48, 40, 21, 71, 94, 73, 68, 33,\n",
              "       77, 72, 81])"
            ]
          },
          "metadata": {
            "tags": []
          },
          "execution_count": 102
        }
      ]
    },
    {
      "cell_type": "code",
      "metadata": {
        "id": "6Iprep-eT3My",
        "colab_type": "code",
        "colab": {}
      },
      "source": [
        "Xsample = X[sample_indices]\n",
        "ysample = y[sample_indices]"
      ],
      "execution_count": 0,
      "outputs": []
    },
    {
      "cell_type": "code",
      "metadata": {
        "id": "YvBwnfcvT3M0",
        "colab_type": "code",
        "colab": {
          "base_uri": "https://localhost:8080/",
          "height": 34
        },
        "outputId": "a271dc75-d796-4f07-f292-a1eb98502e10"
      },
      "source": [
        "lr_s = LinearRegression().fit(Xsample, ysample)\n",
        "r2_score(ysample, lr_s.predict(Xsample)), lr_s.score(Xsample, ysample)"
      ],
      "execution_count": 105,
      "outputs": [
        {
          "output_type": "execute_result",
          "data": {
            "text/plain": [
              "(0.9152861989750251, 0.915286198975025)"
            ]
          },
          "metadata": {
            "tags": []
          },
          "execution_count": 105
        }
      ]
    },
    {
      "cell_type": "markdown",
      "metadata": {
        "id": "BHF8qm9pT3M3",
        "colab_type": "text"
      },
      "source": [
        "Lets check the sensitivity of our prediction to our sample. We'll do this 1000 times"
      ]
    },
    {
      "cell_type": "code",
      "metadata": {
        "id": "97nKpsxmT3M4",
        "colab_type": "code",
        "colab": {
          "base_uri": "https://localhost:8080/",
          "height": 286
        },
        "outputId": "a5ebc3ce-fefe-4260-bb98-e03a9e23a6de"
      },
      "source": [
        "scores = []\n",
        "for i in range(1000):\n",
        "    sample_indices = np.random.choice(range(100), size=20)\n",
        "    Xsample = X[sample_indices]\n",
        "    ysample = y[sample_indices]\n",
        "    scores.append(LinearRegression().fit(Xsample, ysample).score(Xsample, ysample))\n",
        "plt.hist(scores,  bins=np.linspace(0.7, 1, 30))\n",
        "plt.xlim(0.7,1)"
      ],
      "execution_count": 115,
      "outputs": [
        {
          "output_type": "execute_result",
          "data": {
            "text/plain": [
              "(0.7, 1)"
            ]
          },
          "metadata": {
            "tags": []
          },
          "execution_count": 115
        },
        {
          "output_type": "display_data",
          "data": {
            "image/png": "[encoded data removed]",
            "text/plain": [
              "<Figure size 432x288 with 1 Axes>"
            ]
          },
          "metadata": {
            "tags": []
          }
        }
      ]
    },
    {
      "cell_type": "markdown",
      "metadata": {
        "id": "bwfUNg-ZT3M6",
        "colab_type": "text"
      },
      "source": [
        "Redo this with a higher amount of noise (about 400). For this you will need to create a new dataset. Plot the data. Plot the histogram of the R^2 as well as that of the coefficients.Try a smaller dataset as well. What conclusions can you draw?"
      ]
    },
    {
      "cell_type": "code",
      "metadata": {
        "id": "-syY4_kHT3M7",
        "colab_type": "code",
        "colab": {}
      },
      "source": [
        "# your code here\n",
        "Xnew, ynew, coefnew = make_regression(n_samples = 100, \n",
        "                       n_features=1, \n",
        "                       noise=400,\n",
        "                       random_state=2017,\n",
        "                       coef=True)"
      ],
      "execution_count": 0,
      "outputs": []
    },
    {
      "cell_type": "code",
      "metadata": {
        "id": "3ULPfXZ8T3M9",
        "colab_type": "code",
        "colab": {
          "base_uri": "https://localhost:8080/",
          "height": 269
        },
        "outputId": "3e6d93cd-173b-48aa-d6f7-d224cf0a0194"
      },
      "source": [
        "# your code here\n",
        "plt.plot(Xnew,ynew, 'o');"
      ],
      "execution_count": 108,
      "outputs": [
        {
          "output_type": "display_data",
          "data": {
            "image/png": "[encoded data removed]",
            "text/plain": [
              "<Figure size 432x288 with 1 Axes>"
            ]
          },
          "metadata": {
            "tags": []
          }
        }
      ]
    },
    {
      "cell_type": "code",
      "metadata": {
        "id": "fdN3vcpAT3NA",
        "colab_type": "code",
        "colab": {
          "base_uri": "https://localhost:8080/",
          "height": 286
        },
        "outputId": "cec1ad17-9312-4d4e-a55b-6d6ab70173ae"
      },
      "source": [
        "# your code here\n",
        "scores = []\n",
        "coeff = []\n",
        "inter = []\n",
        "for i in range(1000):\n",
        "    sample_indices = np.random.choice(range(100), size=20)\n",
        "    Xsample = Xnew[sample_indices]\n",
        "    ysample = ynew[sample_indices]\n",
        "    lrnew = LinearRegression()\n",
        "    scores.append(LinearRegression().fit(Xsample, ysample).score(Xsample, ysample))\n",
        "    coeff.append(LinearRegression().fit(Xsample,ysample).coef_)\n",
        "    inter.append(LinearRegression().fit(Xsample,ysample).intercept_)             \n",
        "\n",
        "plt.hist(scores,  bins=np.linspace(0.0, 1, 50))\n",
        "plt.xlim(0.0,1)\n",
        "#plt.hist(coeff,  bins=np.linspace(0.0, 1, 50))\n",
        "#plt.xlim(0.0,1)\n",
        "#plt.hist(inter,  bins=np.linspace(0.0, 1, 50))\n",
        "#plt.xlim(0.0,1)"
      ],
      "execution_count": 109,
      "outputs": [
        {
          "output_type": "execute_result",
          "data": {
            "text/plain": [
              "(0.0, 1)"
            ]
          },
          "metadata": {
            "tags": []
          },
          "execution_count": 109
        },
        {
          "output_type": "display_data",
          "data": {
            "image/png": "[encoded data removed]",
            "text/plain": [
              "<Figure size 432x288 with 1 Axes>"
            ]
          },
          "metadata": {
            "tags": []
          }
        }
      ]
    },
    {
      "cell_type": "code",
      "metadata": {
        "id": "N3VqhvdtT3NE",
        "colab_type": "code",
        "colab": {
          "base_uri": "https://localhost:8080/",
          "height": 286
        },
        "outputId": "afeb412b-e083-47d8-daaf-bddbe3ec5830"
      },
      "source": [
        "# your code here\n",
        "plt.hist(inter,  bins=np.linspace(-400, 250, 50))\n",
        "plt.xlim(-400,250)"
      ],
      "execution_count": 125,
      "outputs": [
        {
          "output_type": "execute_result",
          "data": {
            "text/plain": [
              "(-400, 250)"
            ]
          },
          "metadata": {
            "tags": []
          },
          "execution_count": 125
        },
        {
          "output_type": "display_data",
          "data": {
            "image/png": "[encoded data removed]",
            "text/plain": [
              "<Figure size 432x288 with 1 Axes>"
            ]
          },
          "metadata": {
            "tags": []
          }
        }
      ]
    },
    {
      "cell_type": "markdown",
      "metadata": {
        "id": "l7LqElrO6_ij",
        "colab_type": "text"
      },
      "source": [
        "# **BootStraping**\n",
        "### My own code learned from the video lecture:"
      ]
    },
    {
      "cell_type": "code",
      "metadata": {
        "id": "kCBFkbuY7O_C",
        "colab_type": "code",
        "colab": {
          "base_uri": "https://localhost:8080/",
          "height": 286
        },
        "outputId": "681465a3-605b-4e39-c248-8cb9a2e8b0cb"
      },
      "source": [
        "\n",
        "scores = []\n",
        "slopes = []\n",
        "intercepts = []\n",
        "for i in range(1000):\n",
        "    sample_indices = np.random.choice(range(100), size=100,replace = True)\n",
        "    Xsample = X[sample_indices]\n",
        "    ysample = y[sample_indices]\n",
        "    linreg = LinearRegression().fit(Xsample, ysample)\n",
        "    scores.append(linreg.score(Xsample, ysample))\n",
        "    slopes.append(linreg.coef_[0])\n",
        "    intercepts.append(linreg.intercept_)\n",
        "plt.hist(scores,  bins=np.linspace(0.7, 1, 30))\n",
        "plt.xlim(0.7,1)"
      ],
      "execution_count": 121,
      "outputs": [
        {
          "output_type": "execute_result",
          "data": {
            "text/plain": [
              "(0.7, 1)"
            ]
          },
          "metadata": {
            "tags": []
          },
          "execution_count": 121
        },
        {
          "output_type": "display_data",
          "data": {
            "image/png": "[encoded data removed]",
            "text/plain": [
              "<Figure size 432x288 with 1 Axes>"
            ]
          },
          "metadata": {
            "tags": []
          }
        }
      ]
    },
    {
      "cell_type": "code",
      "metadata": {
        "id": "w7xv4oo3B1Qh",
        "colab_type": "code",
        "colab": {
          "base_uri": "https://localhost:8080/",
          "height": 269
        },
        "outputId": "3bb51a40-1a90-4448-efc1-010f128c34ee"
      },
      "source": [
        "plt.hist(slopes);\n"
      ],
      "execution_count": 126,
      "outputs": [
        {
          "output_type": "display_data",
          "data": {
            "image/png": "[encoded data removed]",
            "text/plain": [
              "<Figure size 432x288 with 1 Axes>"
            ]
          },
          "metadata": {
            "tags": []
          }
        }
      ]
    },
    {
      "cell_type": "code",
      "metadata": {
        "id": "Ukc2ShITB3d3",
        "colab_type": "code",
        "colab": {
          "base_uri": "https://localhost:8080/",
          "height": 269
        },
        "outputId": "8e1d5624-ef93-492c-a5e5-81674c737cb1"
      },
      "source": [
        "plt.hist(intercepts);"
      ],
      "execution_count": 127,
      "outputs": [
        {
          "output_type": "display_data",
          "data": {
            "image/png": "[encoded data removed]",
            "text/plain": [
              "<Figure size 432x288 with 1 Axes>"
            ]
          },
          "metadata": {
            "tags": []
          }
        }
      ]
    },
    {
      "cell_type": "code",
      "metadata": {
        "id": "TQAzFWNvCkkJ",
        "colab_type": "code",
        "colab": {
          "base_uri": "https://localhost:8080/",
          "height": 595
        },
        "outputId": "8acfda0e-b9e7-42d7-e57c-f3263d469de7"
      },
      "source": [
        "plt.figure(figsize=(10,10))\n",
        "plt.plot(Xgrid,ypgrid,lw=3)\n",
        "plt.plot(X,y, 'o');\n",
        "for i in range (1000):\n",
        "  line = lambda x: slopes[i]*x + intercepts[i]\n",
        "  plt.plot(xgrid,line(xgrid),alpha = 0.005)"
      ],
      "execution_count": 136,
      "outputs": [
        {
          "output_type": "display_data",
          "data": {
            "image/png": "[encoded data removed]",
            "text/plain": [
              "<Figure size 720x720 with 1 Axes>"
            ]
          },
          "metadata": {
            "tags": []
          }
        }
      ]
    },
    {
      "cell_type": "code",
      "metadata": {
        "id": "599n-QCr7O6P",
        "colab_type": "code",
        "colab": {}
      },
      "source": [
        ""
      ],
      "execution_count": 0,
      "outputs": []
    },
    {
      "cell_type": "markdown",
      "metadata": {
        "id": "yfOAyLvPT3NK",
        "colab_type": "text"
      },
      "source": [
        "## Testing and training\n",
        "\n",
        "A grid like the one we created might contain some of the points we fit this model on. This is called **Data Contamination** and is a big no-no. If we want an independent estimate of the error, we should hold out some points in a test set."
      ]
    },
    {
      "cell_type": "code",
      "metadata": {
        "id": "gMfw3LjOT3NL",
        "colab_type": "code",
        "colab": {}
      },
      "source": [
        "from sklearn.model_selection import train_test_split"
      ],
      "execution_count": 0,
      "outputs": []
    },
    {
      "cell_type": "code",
      "metadata": {
        "id": "MXHtlzHfT3NP",
        "colab_type": "code",
        "colab": {}
      },
      "source": [
        "Xtrain, Xtest, ytrain, ytest = train_test_split(X, y, test_size=0.2, random_state=2017)"
      ],
      "execution_count": 0,
      "outputs": []
    },
    {
      "cell_type": "markdown",
      "metadata": {
        "id": "rdNHUKaIT3NS",
        "colab_type": "text"
      },
      "source": [
        "Now lets fit the model on the training set and evaluate it both on the training set and the test set. We print the R^2"
      ]
    },
    {
      "cell_type": "code",
      "metadata": {
        "id": "aMh-cauHT3NT",
        "colab_type": "code",
        "colab": {}
      },
      "source": [
        "lr2 = LinearRegression().fit(Xtrain, ytrain)\n",
        "r2_test = r2_score(ytest, lr.predict(Xtest))\n",
        "r2_train = r2_score(ytrain, lr.predict(Xtrain))"
      ],
      "execution_count": 0,
      "outputs": []
    },
    {
      "cell_type": "code",
      "metadata": {
        "id": "4-Yl_BuDT3NV",
        "colab_type": "code",
        "colab": {
          "base_uri": "https://localhost:8080/",
          "height": 34
        },
        "outputId": "90e2479c-f0c0-4e15-d793-9fd9d35c0cb6"
      },
      "source": [
        "\"Train R2 is {}, while test R^2 is {}\".format(r2_train, r2_test)"
      ],
      "execution_count": 140,
      "outputs": [
        {
          "output_type": "execute_result",
          "data": {
            "text/plain": [
              "'Train R2 is 0.8988503182834551, while test R^2 is 0.9350921543081208'"
            ]
          },
          "metadata": {
            "tags": []
          },
          "execution_count": 140
        }
      ]
    },
    {
      "cell_type": "markdown",
      "metadata": {
        "id": "sMTtcbKkT3NX",
        "colab_type": "text"
      },
      "source": [
        "## Using Keras to fit the model\n",
        "\n",
        "We'll use plain and simple gradient descent (why?) and Keras's Sequential API"
      ]
    },
    {
      "cell_type": "code",
      "metadata": {
        "id": "ETADGzQiT3NY",
        "colab_type": "code",
        "colab": {}
      },
      "source": [
        "from keras.models import Sequential\n",
        "from keras.layers import Dense\n",
        "lr3 = Sequential()\n",
        "lr3.add(Dense(1, input_shape=(1,)))\n",
        "lr3.compile(optimizer='sgd', loss='mean_squared_error',  metrics=['mae','accuracy'])\n",
        "lr3.summary()"
      ],
      "execution_count": 0,
      "outputs": []
    },
    {
      "cell_type": "code",
      "metadata": {
        "id": "OH3EpON5T3Nc",
        "colab_type": "code",
        "colab": {}
      },
      "source": [
        "history = lr3.fit(Xtrain, ytrain, epochs=400, batch_size=80)"
      ],
      "execution_count": 0,
      "outputs": []
    },
    {
      "cell_type": "code",
      "metadata": {
        "id": "xppHUeKHT3Ne",
        "colab_type": "code",
        "colab": {}
      },
      "source": [
        "plt.plot(history.history['loss'])"
      ],
      "execution_count": 0,
      "outputs": []
    },
    {
      "cell_type": "code",
      "metadata": {
        "id": "iFih_PeAT3Nh",
        "colab_type": "code",
        "colab": {}
      },
      "source": [
        "lr3.get_weights()"
      ],
      "execution_count": 0,
      "outputs": []
    },
    {
      "cell_type": "markdown",
      "metadata": {
        "id": "NQbhJPawT3Nl",
        "colab_type": "text"
      },
      "source": [
        "### Using the Keras Functional API\n",
        "\n"
      ]
    },
    {
      "cell_type": "code",
      "metadata": {
        "id": "yTE9nEaBT3Nl",
        "colab_type": "code",
        "colab": {}
      },
      "source": [
        "from keras.layers import Input, Dense\n",
        "from keras.models import Model\n",
        "\n",
        "inputs_placeholder = Input(shape=(1,))\n",
        "outputs_placeholder = Dense(1, activation='linear')(inputs_placeholder)\n",
        "\n",
        "m = Model(inputs=inputs_placeholder, outputs=outputs_placeholder)\n",
        "m.compile(optimizer='sgd', loss='mean_squared_error',  metrics=['mae','accuracy'])\n",
        "m.summary()"
      ],
      "execution_count": 0,
      "outputs": []
    },
    {
      "cell_type": "code",
      "metadata": {
        "id": "BhiCnip1T3Nq",
        "colab_type": "code",
        "colab": {}
      },
      "source": [
        "history2 = m.fit(Xtrain, ytrain, epochs=250, batch_size=80)"
      ],
      "execution_count": 0,
      "outputs": []
    },
    {
      "cell_type": "code",
      "metadata": {
        "id": "QMObHaufT3Nt",
        "colab_type": "code",
        "colab": {}
      },
      "source": [
        "m.get_weights()"
      ],
      "execution_count": 0,
      "outputs": []
    }
  ]
}