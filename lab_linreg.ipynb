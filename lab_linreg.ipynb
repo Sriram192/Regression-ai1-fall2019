{
  "nbformat": 4,
  "nbformat_minor": 0,
  "metadata": {
    "kernelspec": {
      "display_name": "Python 3",
      "name": "python3",
      "language": "python"
    },
    "language_info": {
      "mimetype": "text/x-python",
      "nbconvert_exporter": "python",
      "name": "python",
      "file_extension": ".py",
      "version": "3.6.8",
      "pygments_lexer": "ipython3",
      "codemirror_mode": {
        "version": 3,
        "name": "ipython"
      }
    },
    "anaconda-cloud": {},
    "nteract": {
      "version": "0.7.1"
    },
    "colab": {
      "name": "lab_linreg.ipynb",
      "provenance": [],
      "include_colab_link": true
    }
  },
  "cells": [
    {
      "cell_type": "markdown",
      "metadata": {
        "id": "view-in-github",
        "colab_type": "text"
      },
      "source": [
        "<a href=\"https://colab.research.google.com/github/Sriram192/Regression-ai1-fall2019/blob/New28_12_2020/lab_linreg.ipynb\" target=\"_parent\"><img src=\"https://colab.research.google.com/assets/colab-badge.svg\" alt=\"Open In Colab\"/></a>"
      ]
    },
    {
      "cell_type": "markdown",
      "metadata": {
        "id": "O3DOLOwmh8Bs"
      },
      "source": [
        "# Linear Regression Multiple Ways"
      ]
    },
    {
      "cell_type": "markdown",
      "metadata": {
        "id": "ABwVrD3Kh8Bw"
      },
      "source": [
        "## Making the data\n",
        "\n",
        "We'll first construct a synthetic data set..using a function from the `scikit-learn` library. Synthetic data is nice in the sense that we can constrain how the noise behaves, and thus isolate effects."
      ]
    },
    {
      "cell_type": "code",
      "metadata": {
        "id": "9E554xcFh8Bx"
      },
      "source": [
        "%matplotlib inline\n",
        "from sklearn.datasets import make_regression\n",
        "import numpy as np\n",
        "import matplotlib.pyplot as plt"
      ],
      "execution_count": 1,
      "outputs": []
    },
    {
      "cell_type": "code",
      "metadata": {
        "id": "6q1ce69lh8By"
      },
      "source": [
        "#code adapted from http://tillbergmann.com/blog/python-gradient-descent.html\n",
        "X, y, coef = make_regression(n_samples = 100, \n",
        "                       n_features=1, \n",
        "                       noise=20,\n",
        "                       random_state=2017,\n",
        "                       coef=True)"
      ],
      "execution_count": 2,
      "outputs": []
    },
    {
      "cell_type": "markdown",
      "metadata": {
        "id": "TCQMWxixh8Bz"
      },
      "source": [
        "Notice that the X is in the canonical array-of-arrays format.\n",
        "**Try and print its shape**"
      ]
    },
    {
      "cell_type": "code",
      "metadata": {
        "id": "n7F3NH5Qh8B0",
        "outputId": "7dec93a7-88ac-49ec-dd08-be51b367a08d",
        "colab": {
          "base_uri": "https://localhost:8080/"
        }
      },
      "source": [
        "X.shape"
      ],
      "execution_count": 4,
      "outputs": [
        {
          "output_type": "execute_result",
          "data": {
            "text/plain": [
              "(100, 1)"
            ]
          },
          "metadata": {
            "tags": []
          },
          "execution_count": 4
        }
      ]
    },
    {
      "cell_type": "markdown",
      "metadata": {
        "id": "D96fMUo3h8B0"
      },
      "source": [
        "We are fitting a model with an intercept. Lets see what it is."
      ]
    },
    {
      "cell_type": "code",
      "metadata": {
        "id": "l7p0aYwLix0P"
      },
      "source": [
        ""
      ],
      "execution_count": null,
      "outputs": []
    },
    {
      "cell_type": "code",
      "metadata": {
        "id": "Je6QBo1zh8B1",
        "outputId": "200fe037-e3b1-4b4d-b272-6ba10a8e91cb",
        "colab": {
          "base_uri": "https://localhost:8080/"
        }
      },
      "source": [
        "coef"
      ],
      "execution_count": 5,
      "outputs": [
        {
          "output_type": "execute_result",
          "data": {
            "text/plain": [
              "array(80.88336208)"
            ]
          },
          "metadata": {
            "tags": []
          },
          "execution_count": 5
        }
      ]
    },
    {
      "cell_type": "markdown",
      "metadata": {
        "id": "fuPnqOGih8B1"
      },
      "source": [
        "We can plot the data."
      ]
    },
    {
      "cell_type": "code",
      "metadata": {
        "id": "b5YghgDBh8B2",
        "outputId": "4757628a-f4c4-47f5-8540-c780cfb31640",
        "colab": {
          "base_uri": "https://localhost:8080/",
          "height": 265
        }
      },
      "source": [
        "plt.plot(X,y, 'o');"
      ],
      "execution_count": 6,
      "outputs": [
        {
          "output_type": "display_data",
          "data": {
            "image/png": "[encoded data removed]",
            "text/plain": [
              "<Figure size 432x288 with 1 Axes>"
            ]
          },
          "metadata": {
            "tags": [],
            "needs_background": "light"
          }
        }
      ]
    },
    {
      "cell_type": "markdown",
      "metadata": {
        "id": "8mFCf5KUh8B2"
      },
      "source": [
        "For the purposes of drawing the regression line, lets create a uniform grid of points, and then reshape it into the canonical format"
      ]
    },
    {
      "cell_type": "code",
      "metadata": {
        "id": "N7JwfQ7Hh8B3"
      },
      "source": [
        "xgrid = np.linspace(-2.5,2.5,1000) #grid is a vector\n",
        "Xgrid = xgrid.reshape(-1,1)#This reshape is to convert xgrid into a matrix. -1 fetches the las element of the array"
      ],
      "execution_count": 8,
      "outputs": []
    },
    {
      "cell_type": "code",
      "metadata": {
        "id": "UTOpFONpjx4L",
        "outputId": "b8ebebef-2bb6-4cfe-9fbb-ff36042eea00",
        "colab": {
          "base_uri": "https://localhost:8080/"
        }
      },
      "source": [
        "xgrid.shape,Xgrid.shape"
      ],
      "execution_count": 9,
      "outputs": [
        {
          "output_type": "execute_result",
          "data": {
            "text/plain": [
              "((1000,), (1000, 1))"
            ]
          },
          "metadata": {
            "tags": []
          },
          "execution_count": 9
        }
      ]
    },
    {
      "cell_type": "code",
      "metadata": {
        "id": "zNk8J_mGj-I1",
        "outputId": "ac7ac4a4-869f-439f-c527-2f62bca97592",
        "colab": {
          "base_uri": "https://localhost:8080/"
        }
      },
      "source": [
        "vec = np.array([2,3,4,5,6,7,8,9])#defining a vector in python using numpy\r\n",
        "vec2 = np.array([[2],\r\n",
        "                 [3],\r\n",
        "                 [4]]) #this creates a matrix of 3rows and 1 column\r\n",
        "vec.shape, vec2.shape"
      ],
      "execution_count": 16,
      "outputs": [
        {
          "output_type": "execute_result",
          "data": {
            "text/plain": [
              "((8,), (3, 1))"
            ]
          },
          "metadata": {
            "tags": []
          },
          "execution_count": 16
        }
      ]
    },
    {
      "cell_type": "markdown",
      "metadata": {
        "id": "CXQvUwkih8B3"
      },
      "source": [
        "## Fit using sklearn"
      ]
    },
    {
      "cell_type": "code",
      "metadata": {
        "id": "twL_NuMnh8B4"
      },
      "source": [
        "from sklearn.linear_model import LinearRegression"
      ],
      "execution_count": 17,
      "outputs": []
    },
    {
      "cell_type": "code",
      "metadata": {
        "id": "smBsTaARh8B4",
        "outputId": "c4d5a6c8-af7c-4bef-c181-1e6322c1cc32",
        "colab": {
          "base_uri": "https://localhost:8080/"
        }
      },
      "source": [
        "lr = LinearRegression()\n",
        "lr.fit(X,y)\n",
        "ypgrid = lr.predict(Xgrid)\n",
        "lr.coef_, lr.intercept_"
      ],
      "execution_count": 18,
      "outputs": [
        {
          "output_type": "execute_result",
          "data": {
            "text/plain": [
              "(array([82.90456142]), -3.709228868670302)"
            ]
          },
          "metadata": {
            "tags": []
          },
          "execution_count": 18
        }
      ]
    },
    {
      "cell_type": "code",
      "metadata": {
        "id": "69KkN40sh8B5",
        "outputId": "6652f86c-f1aa-4328-9134-3a4c5deeca5d",
        "colab": {
          "base_uri": "https://localhost:8080/",
          "height": 282
        }
      },
      "source": [
        "plt.plot(Xgrid, ypgrid)\n",
        "plt.plot(X, y, '.')"
      ],
      "execution_count": 19,
      "outputs": [
        {
          "output_type": "execute_result",
          "data": {
            "text/plain": [
              "[<matplotlib.lines.Line2D at 0x7f1f253e52b0>]"
            ]
          },
          "metadata": {
            "tags": []
          },
          "execution_count": 19
        },
        {
          "output_type": "display_data",
          "data": {
            "image/png": "[encoded data removed]",
            "text/plain": [
              "<Figure size 432x288 with 1 Axes>"
            ]
          },
          "metadata": {
            "tags": [],
            "needs_background": "light"
          }
        }
      ]
    },
    {
      "cell_type": "code",
      "metadata": {
        "id": "TZVfKn9Vh8B5"
      },
      "source": [
        "from sklearn.metrics import r2_score"
      ],
      "execution_count": 20,
      "outputs": []
    },
    {
      "cell_type": "code",
      "metadata": {
        "id": "ozbn0kjkh8B6",
        "outputId": "431136cf-636a-498c-b36b-bb6a1db3d0eb",
        "colab": {
          "base_uri": "https://localhost:8080/"
        }
      },
      "source": [
        "r2_score(y, lr.predict(X))"
      ],
      "execution_count": 21,
      "outputs": [
        {
          "output_type": "execute_result",
          "data": {
            "text/plain": [
              "0.9342344891672815"
            ]
          },
          "metadata": {
            "tags": []
          },
          "execution_count": 21
        }
      ]
    },
    {
      "cell_type": "code",
      "metadata": {
        "id": "7umEV9b8nfV-",
        "outputId": "2d8fae0d-fba3-41ce-8eb4-7b98bd05d3db",
        "colab": {
          "base_uri": "https://localhost:8080/"
        }
      },
      "source": [
        "lr.score(X,y)"
      ],
      "execution_count": 24,
      "outputs": [
        {
          "output_type": "execute_result",
          "data": {
            "text/plain": [
              "0.9342344891672816"
            ]
          },
          "metadata": {
            "tags": []
          },
          "execution_count": 24
        }
      ]
    },
    {
      "cell_type": "markdown",
      "metadata": {
        "id": "UnNSFiDxh8B6"
      },
      "source": [
        "## The impact of sample size\n",
        "\n",
        "We'll sample 20 points from the data set. We do this by sampling 20 indices, index into X and y, and then fit on the sample"
      ]
    },
    {
      "cell_type": "code",
      "metadata": {
        "id": "xzPjWIGenegI"
      },
      "source": [
        ""
      ],
      "execution_count": null,
      "outputs": []
    },
    {
      "cell_type": "code",
      "metadata": {
        "id": "3bHRdtN2h8B6",
        "outputId": "fe7fbd61-f875-4e53-815b-77815b7423fc",
        "colab": {
          "base_uri": "https://localhost:8080/"
        }
      },
      "source": [
        "sample_indices = np.random.choice(range(100), size=20)\n",
        "sample_indices"
      ],
      "execution_count": 28,
      "outputs": [
        {
          "output_type": "execute_result",
          "data": {
            "text/plain": [
              "array([59,  9, 40,  7, 34, 59, 56, 72, 97, 35, 25, 28,  1,  0, 45, 24, 38,\n",
              "        5, 26, 75])"
            ]
          },
          "metadata": {
            "tags": []
          },
          "execution_count": 28
        }
      ]
    },
    {
      "cell_type": "code",
      "metadata": {
        "id": "ge4AxhLWh8B7"
      },
      "source": [
        "Xsample = X[sample_indices]\n",
        "ysample = y[sample_indices]"
      ],
      "execution_count": 29,
      "outputs": []
    },
    {
      "cell_type": "code",
      "metadata": {
        "id": "YL6q8p59h8B7",
        "outputId": "96100905-5e42-4484-adec-53bd8fe7b5f1",
        "colab": {
          "base_uri": "https://localhost:8080/"
        }
      },
      "source": [
        "lr_s = LinearRegression().fit(Xsample, ysample)\n",
        "r2_score(ysample, lr_s.predict(Xsample)), lr_s.score(Xsample, ysample)"
      ],
      "execution_count": 30,
      "outputs": [
        {
          "output_type": "execute_result",
          "data": {
            "text/plain": [
              "(0.9298584243108311, 0.9298584243108312)"
            ]
          },
          "metadata": {
            "tags": []
          },
          "execution_count": 30
        }
      ]
    },
    {
      "cell_type": "markdown",
      "metadata": {
        "id": "rkqGQNckh8B8"
      },
      "source": [
        "Lets check the sensitivity of our prediction to our sample. We'll do this 1000 times"
      ]
    },
    {
      "cell_type": "code",
      "metadata": {
        "id": "K3iuPVMDh8B8",
        "outputId": "146cfe4e-df3a-4e8a-8fed-08c443db0983",
        "colab": {
          "base_uri": "https://localhost:8080/",
          "height": 282
        }
      },
      "source": [
        "scores = []\n",
        "for i in range(1000):\n",
        "    sample_indices = np.random.choice(range(100), size=20)\n",
        "    Xsample = X[sample_indices]\n",
        "    ysample = y[sample_indices]\n",
        "    linreg = LinearRegression().fit(Xsample,ysample)\n",
        "    scores.append(linreg.score(Xsample, ysample))\n",
        "plt.hist(scores,  bins=np.linspace(0.7, 1, 100),color = 'red')\n",
        "plt.xlim(0.7,1)"
      ],
      "execution_count": 35,
      "outputs": [
        {
          "output_type": "execute_result",
          "data": {
            "text/plain": [
              "(0.7, 1.0)"
            ]
          },
          "metadata": {
            "tags": []
          },
          "execution_count": 35
        },
        {
          "output_type": "display_data",
          "data": {
            "image/png": "[encoded data removed]",
            "text/plain": [
              "<Figure size 432x288 with 1 Axes>"
            ]
          },
          "metadata": {
            "tags": [],
            "needs_background": "light"
          }
        }
      ]
    },
    {
      "cell_type": "markdown",
      "metadata": {
        "id": "FKq82ICih8B9"
      },
      "source": [
        "Redo this with a higher amount of noise (about 400). For this you will need to create a new dataset. Plot the data. Plot the histogram of the R^2 as well as that of the coefficients.Try a smaller dataset as well. What conclusions can you draw?"
      ]
    },
    {
      "cell_type": "code",
      "metadata": {
        "id": "17xwpSsUh8B-",
        "outputId": "76d3a562-3a1c-4abd-f80e-414445f04741",
        "colab": {
          "base_uri": "https://localhost:8080/",
          "height": 265
        }
      },
      "source": [
        "# your code here\n",
        "X, y, coef = make_regression(n_samples = 1000, \n",
        "                       n_features=1, \n",
        "                       noise=20,\n",
        "                       random_state=201,\n",
        "                       coef=True)\n",
        "plt.plot(X,y,'.')\n",
        "plt.show()\n",
        "\n",
        "\n"
      ],
      "execution_count": 68,
      "outputs": [
        {
          "output_type": "display_data",
          "data": {
            "image/png": "[encoded data removed]",
            "text/plain": [
              "<Figure size 432x288 with 1 Axes>"
            ]
          },
          "metadata": {
            "tags": [],
            "needs_background": "light"
          }
        }
      ]
    },
    {
      "cell_type": "code",
      "metadata": {
        "id": "Mg9TKxvwh8B-",
        "outputId": "3ea8cb51-913c-44c3-a239-32031edf9861",
        "colab": {
          "base_uri": "https://localhost:8080/",
          "height": 282
        }
      },
      "source": [
        "# your code here\n",
        "lr = LinearRegression()\n",
        "lr.fit(X,y)\n",
        "xgrid = np.linspace(-2.5,2.5,1000) #grid is a vector\n",
        "Xgrid = xgrid.reshape(-1,1)\n",
        "ypred = lr.predict(Xgrid)\n",
        "plt.plot(X,y,'.')\n",
        "plt.plot(Xgrid,ypred)\n",
        "lr.score(X,y)"
      ],
      "execution_count": 85,
      "outputs": [
        {
          "output_type": "execute_result",
          "data": {
            "text/plain": [
              "0.9525931651485042"
            ]
          },
          "metadata": {
            "tags": []
          },
          "execution_count": 85
        },
        {
          "output_type": "display_data",
          "data": {
            "image/png": "[encoded data removed]",
            "text/plain": [
              "<Figure size 432x288 with 1 Axes>"
            ]
          },
          "metadata": {
            "tags": [],
            "needs_background": "light"
          }
        }
      ]
    },
    {
      "cell_type": "code",
      "metadata": {
        "id": "5mpzXIyfh8B_",
        "outputId": "3cd00a44-38a8-48b8-b732-c70d59dde7d2",
        "colab": {
          "base_uri": "https://localhost:8080/",
          "height": 850
        }
      },
      "source": [
        "# your code here\n",
        "scores = []\n",
        "slope = []\n",
        "intercept = []\n",
        "for i in range(1000):\n",
        "  index = np.random.choice(range(1000),size=5,replace = True)\n",
        "  X_sample = X[index]\n",
        "  Y_sample = y[index]\n",
        "  linreg = LinearRegression().fit(X_sample,Y_sample)\n",
        "  scores.append(linreg.score(X_sample,Y_sample))\n",
        "  slope.append(linreg.coef_[0])\n",
        "  intercept.append(linreg.intercept_)\n",
        "plt.hist(scores,  bins=np.linspace(0.8, 1, 30),color = 'red')\n",
        "plt.show()\n",
        "plt.hist(slope)\n",
        "plt.show()\n",
        "plt.hist(intercept)"
      ],
      "execution_count": 86,
      "outputs": [
        {
          "output_type": "display_data",
          "data": {
            "image/png": "[encoded data removed]",
            "text/plain": [
              "<Figure size 432x288 with 1 Axes>"
            ]
          },
          "metadata": {
            "tags": [],
            "needs_background": "light"
          }
        },
        {
          "output_type": "display_data",
          "data": {
            "image/png": "[encoded data removed]",
            "text/plain": [
              "<Figure size 432x288 with 1 Axes>"
            ]
          },
          "metadata": {
            "tags": [],
            "needs_background": "light"
          }
        },
        {
          "output_type": "execute_result",
          "data": {
            "text/plain": [
              "(array([  1.,   5.,  24., 146., 339., 324., 130.,  24.,   4.,   3.]),\n",
              " array([-46.50075418, -36.90423181, -27.30770944, -17.71118707,\n",
              "         -8.11466469,   1.48185768,  11.07838005,  20.67490242,\n",
              "         30.27142479,  39.86794716,  49.46446954]),\n",
              " <a list of 10 Patch objects>)"
            ]
          },
          "metadata": {
            "tags": []
          },
          "execution_count": 86
        },
        {
          "output_type": "display_data",
          "data": {
            "image/png": "[encoded data removed]",
            "text/plain": [
              "<Figure size 432x288 with 1 Axes>"
            ]
          },
          "metadata": {
            "tags": [],
            "needs_background": "light"
          }
        }
      ]
    },
    {
      "cell_type": "code",
      "metadata": {
        "id": "nSNbn8KXh8B_",
        "outputId": "1819486f-ea69-4f4e-e617-68268b23b88b",
        "colab": {
          "base_uri": "https://localhost:8080/",
          "height": 265
        }
      },
      "source": [
        "# your code here\n",
        "plt.plot(X,y,'.')\n",
        "plt.plot(Xgrid,ypred,linewidth = 2,color = 'red')\n",
        "for i in range(1000):\n",
        "  line = lambda x: slope[i]*x + intercept[i]#function to calculate the equation of the line.lambda for inline function\n",
        "  plt.plot(xgrid,line(xgrid),alpha = 0.007,color = 'red')"
      ],
      "execution_count": 91,
      "outputs": [
        {
          "output_type": "display_data",
          "data": {
            "image/png": "[encoded data removed]",
            "text/plain": [
              "<Figure size 432x288 with 1 Axes>"
            ]
          },
          "metadata": {
            "tags": [],
            "needs_background": "light"
          }
        }
      ]
    },
    {
      "cell_type": "code",
      "metadata": {
        "id": "QD9ynI0dh8B_"
      },
      "source": [
        "# your code here\n"
      ],
      "execution_count": null,
      "outputs": []
    },
    {
      "cell_type": "markdown",
      "metadata": {
        "id": "Pxr2t6sLh8CA"
      },
      "source": [
        "## Testing and training\n",
        "\n",
        "A grid like the one we created might contain some of the points we fit this model on. This is called **Data Contamination** and is a big no-no. If we want an independent estimate of the error, we should hold out some points in a test set."
      ]
    },
    {
      "cell_type": "code",
      "metadata": {
        "id": "Lg-p2Hz8h8CA"
      },
      "source": [
        "from sklearn.model_selection import train_test_split"
      ],
      "execution_count": 76,
      "outputs": []
    },
    {
      "cell_type": "code",
      "metadata": {
        "id": "_aQu7YuAh8CA"
      },
      "source": [
        "Xtrain, Xtest, ytrain, ytest = train_test_split(X, y, test_size=0.2, random_state=2017)"
      ],
      "execution_count": 77,
      "outputs": []
    },
    {
      "cell_type": "markdown",
      "metadata": {
        "id": "PiCTUfgxh8CB"
      },
      "source": [
        "Now lets fit the model on the training set and evaluate it both on the training set and the test set. We print the R^2"
      ]
    },
    {
      "cell_type": "code",
      "metadata": {
        "id": "R3D11cOrh8CB"
      },
      "source": [
        "lr2 = LinearRegression().fit(Xtrain, ytrain)\n",
        "r2_test = r2_score(ytest, lr.predict(Xtest))\n",
        "r2_train = r2_score(ytrain, lr.predict(Xtrain))"
      ],
      "execution_count": 78,
      "outputs": []
    },
    {
      "cell_type": "code",
      "metadata": {
        "id": "WZHa0uGXh8CB",
        "outputId": "d042acb8-c25a-4510-9979-efa921b2ad19",
        "colab": {
          "base_uri": "https://localhost:8080/",
          "height": 35
        }
      },
      "source": [
        "\"Train R2 is {}, while test R^2 is {}\".format(r2_train, r2_test)"
      ],
      "execution_count": 79,
      "outputs": [
        {
          "output_type": "execute_result",
          "data": {
            "application/vnd.google.colaboratory.intrinsic+json": {
              "type": "string"
            },
            "text/plain": [
              "'Train R2 is 0.9553980956202516, while test R^2 is 0.9388417992889133'"
            ]
          },
          "metadata": {
            "tags": []
          },
          "execution_count": 79
        }
      ]
    },
    {
      "cell_type": "markdown",
      "metadata": {
        "id": "KM7eF35Yh8CC"
      },
      "source": [
        "## Using Keras to fit the model\n",
        "\n",
        "We'll use plain and simple gradient descent (why?) and Keras's Sequential API"
      ]
    },
    {
      "cell_type": "code",
      "metadata": {
        "id": "darMPPjeh8CC",
        "outputId": "59686837-e168-4651-a41a-c2b91d19213b",
        "colab": {
          "base_uri": "https://localhost:8080/"
        }
      },
      "source": [
        "from keras.models import Sequential\n",
        "from keras.layers import Dense\n",
        "lr3 = Sequential()\n",
        "lr3.add(Dense(1, input_shape=(1,)))\n",
        "lr3.compile(optimizer='sgd', loss='mean_squared_error',  metrics=['mae','accuracy'])\n",
        "lr3.summary()"
      ],
      "execution_count": 80,
      "outputs": [
        {
          "output_type": "stream",
          "text": [
            "Model: \"sequential\"\n",
            "_________________________________________________________________\n",
            "Layer (type)                 Output Shape              Param #   \n",
            "=================================================================\n",
            "dense (Dense)                (None, 1)                 2         \n",
            "=================================================================\n",
            "Total params: 2\n",
            "Trainable params: 2\n",
            "Non-trainable params: 0\n",
            "_________________________________________________________________\n"
          ],
          "name": "stdout"
        }
      ]
    },
    {
      "cell_type": "code",
      "metadata": {
        "id": "UadaJ3KXh8CD",
        "outputId": "62a5f54c-5b9f-4d79-999f-0f17e88d4aeb",
        "colab": {
          "base_uri": "https://localhost:8080/"
        }
      },
      "source": [
        "history = lr3.fit(Xtrain, ytrain, epochs=400, batch_size=80)"
      ],
      "execution_count": 81,
      "outputs": [
        {
          "output_type": "stream",
          "text": [
            "Epoch 1/400\n",
            "10/10 [==============================] - 0s 1ms/step - loss: 7409.0334 - mae: 68.7192 - accuracy: 0.0000e+00\n",
            "Epoch 2/400\n",
            "10/10 [==============================] - 0s 1ms/step - loss: 5589.8776 - mae: 58.6710 - accuracy: 0.0000e+00\n",
            "Epoch 3/400\n",
            "10/10 [==============================] - 0s 1ms/step - loss: 3658.0476 - mae: 48.3448 - accuracy: 0.0000e+00\n",
            "Epoch 4/400\n",
            "10/10 [==============================] - 0s 1ms/step - loss: 2460.6032 - mae: 39.5781 - accuracy: 0.0000e+00\n",
            "Epoch 5/400\n",
            "10/10 [==============================] - 0s 1ms/step - loss: 1741.8272 - mae: 32.9894 - accuracy: 0.0000e+00\n",
            "Epoch 6/400\n",
            "10/10 [==============================] - 0s 2ms/step - loss: 1329.8046 - mae: 28.7319 - accuracy: 0.0000e+00\n",
            "Epoch 7/400\n",
            "10/10 [==============================] - 0s 1ms/step - loss: 1000.5522 - mae: 25.4422 - accuracy: 0.0000e+00\n",
            "Epoch 8/400\n",
            "10/10 [==============================] - 0s 1ms/step - loss: 846.7769 - mae: 23.4504 - accuracy: 0.0000e+00\n",
            "Epoch 9/400\n",
            "10/10 [==============================] - 0s 2ms/step - loss: 685.5062 - mae: 20.7832 - accuracy: 0.0000e+00\n",
            "Epoch 10/400\n",
            "10/10 [==============================] - 0s 1ms/step - loss: 562.5878 - mae: 19.3456 - accuracy: 0.0000e+00\n",
            "Epoch 11/400\n",
            "10/10 [==============================] - 0s 1ms/step - loss: 518.1357 - mae: 18.3478 - accuracy: 0.0000e+00\n",
            "Epoch 12/400\n",
            "10/10 [==============================] - 0s 1ms/step - loss: 472.4064 - mae: 17.6527 - accuracy: 0.0000e+00\n",
            "Epoch 13/400\n",
            "10/10 [==============================] - 0s 2ms/step - loss: 441.5201 - mae: 16.8967 - accuracy: 0.0000e+00\n",
            "Epoch 14/400\n",
            "10/10 [==============================] - 0s 1ms/step - loss: 419.2893 - mae: 16.4043 - accuracy: 0.0000e+00\n",
            "Epoch 15/400\n",
            "10/10 [==============================] - 0s 1ms/step - loss: 412.9755 - mae: 16.2932 - accuracy: 0.0000e+00\n",
            "Epoch 16/400\n",
            "10/10 [==============================] - 0s 1ms/step - loss: 409.2272 - mae: 15.9903 - accuracy: 0.0000e+00\n",
            "Epoch 17/400\n",
            "10/10 [==============================] - 0s 1ms/step - loss: 392.8389 - mae: 15.6788 - accuracy: 0.0000e+00\n",
            "Epoch 18/400\n",
            "10/10 [==============================] - 0s 1ms/step - loss: 375.0519 - mae: 15.4434 - accuracy: 0.0000e+00\n",
            "Epoch 19/400\n",
            "10/10 [==============================] - 0s 1ms/step - loss: 404.3285 - mae: 15.9469 - accuracy: 0.0000e+00\n",
            "Epoch 20/400\n",
            "10/10 [==============================] - 0s 1ms/step - loss: 417.7982 - mae: 16.4585 - accuracy: 0.0000e+00\n",
            "Epoch 21/400\n",
            "10/10 [==============================] - 0s 1ms/step - loss: 370.6774 - mae: 15.5955 - accuracy: 0.0000e+00\n",
            "Epoch 22/400\n",
            "10/10 [==============================] - 0s 1ms/step - loss: 365.2851 - mae: 15.2226 - accuracy: 0.0000e+00\n",
            "Epoch 23/400\n",
            "10/10 [==============================] - 0s 2ms/step - loss: 368.5738 - mae: 15.2721 - accuracy: 0.0000e+00\n",
            "Epoch 24/400\n",
            "10/10 [==============================] - 0s 2ms/step - loss: 367.7925 - mae: 15.2612 - accuracy: 0.0000e+00\n",
            "Epoch 25/400\n",
            "10/10 [==============================] - 0s 1ms/step - loss: 378.9531 - mae: 15.7853 - accuracy: 0.0000e+00\n",
            "Epoch 26/400\n",
            "10/10 [==============================] - 0s 1ms/step - loss: 398.5677 - mae: 16.0568 - accuracy: 0.0000e+00\n",
            "Epoch 27/400\n",
            "10/10 [==============================] - 0s 1ms/step - loss: 402.3591 - mae: 16.0452 - accuracy: 0.0000e+00\n",
            "Epoch 28/400\n",
            "10/10 [==============================] - 0s 1ms/step - loss: 358.0469 - mae: 15.1042 - accuracy: 0.0000e+00\n",
            "Epoch 29/400\n",
            "10/10 [==============================] - 0s 1ms/step - loss: 383.6518 - mae: 15.7053 - accuracy: 0.0000e+00\n",
            "Epoch 30/400\n",
            "10/10 [==============================] - 0s 1ms/step - loss: 379.3757 - mae: 15.4445 - accuracy: 0.0000e+00\n",
            "Epoch 31/400\n",
            "10/10 [==============================] - 0s 2ms/step - loss: 382.8010 - mae: 15.6114 - accuracy: 0.0000e+00\n",
            "Epoch 32/400\n",
            "10/10 [==============================] - 0s 1ms/step - loss: 391.8524 - mae: 15.8974 - accuracy: 0.0000e+00\n",
            "Epoch 33/400\n",
            "10/10 [==============================] - 0s 1ms/step - loss: 403.9266 - mae: 15.9916 - accuracy: 0.0000e+00\n",
            "Epoch 34/400\n",
            "10/10 [==============================] - 0s 1ms/step - loss: 368.6963 - mae: 15.3290 - accuracy: 0.0000e+00\n",
            "Epoch 35/400\n",
            "10/10 [==============================] - 0s 2ms/step - loss: 403.2959 - mae: 16.2087 - accuracy: 0.0000e+00\n",
            "Epoch 36/400\n",
            "10/10 [==============================] - 0s 1ms/step - loss: 398.7601 - mae: 16.0162 - accuracy: 0.0000e+00\n",
            "Epoch 37/400\n",
            "10/10 [==============================] - 0s 1ms/step - loss: 396.0477 - mae: 15.7016 - accuracy: 0.0000e+00\n",
            "Epoch 38/400\n",
            "10/10 [==============================] - 0s 1ms/step - loss: 374.9950 - mae: 15.2746 - accuracy: 0.0000e+00\n",
            "Epoch 39/400\n",
            "10/10 [==============================] - 0s 1ms/step - loss: 380.4426 - mae: 15.5847 - accuracy: 0.0000e+00\n",
            "Epoch 40/400\n",
            "10/10 [==============================] - 0s 2ms/step - loss: 397.1138 - mae: 15.7907 - accuracy: 0.0000e+00\n",
            "Epoch 41/400\n",
            "10/10 [==============================] - 0s 1ms/step - loss: 383.7177 - mae: 15.6182 - accuracy: 0.0000e+00\n",
            "Epoch 42/400\n",
            "10/10 [==============================] - 0s 1ms/step - loss: 371.8386 - mae: 15.5132 - accuracy: 0.0000e+00\n",
            "Epoch 43/400\n",
            "10/10 [==============================] - 0s 1ms/step - loss: 386.4713 - mae: 15.6655 - accuracy: 0.0000e+00\n",
            "Epoch 44/400\n",
            "10/10 [==============================] - 0s 1ms/step - loss: 386.0359 - mae: 15.5014 - accuracy: 0.0000e+00\n",
            "Epoch 45/400\n",
            "10/10 [==============================] - 0s 1ms/step - loss: 400.4885 - mae: 16.0183 - accuracy: 0.0000e+00\n",
            "Epoch 46/400\n",
            "10/10 [==============================] - 0s 1ms/step - loss: 400.1496 - mae: 16.0621 - accuracy: 0.0000e+00\n",
            "Epoch 47/400\n",
            "10/10 [==============================] - 0s 2ms/step - loss: 394.6931 - mae: 15.9530 - accuracy: 0.0000e+00\n",
            "Epoch 48/400\n",
            "10/10 [==============================] - 0s 1ms/step - loss: 386.0531 - mae: 15.6044 - accuracy: 0.0000e+00\n",
            "Epoch 49/400\n",
            "10/10 [==============================] - 0s 2ms/step - loss: 359.8386 - mae: 15.1837 - accuracy: 0.0000e+00\n",
            "Epoch 50/400\n",
            "10/10 [==============================] - 0s 1ms/step - loss: 379.6485 - mae: 15.5820 - accuracy: 0.0000e+00\n",
            "Epoch 51/400\n",
            "10/10 [==============================] - 0s 1ms/step - loss: 407.1573 - mae: 16.0921 - accuracy: 0.0000e+00\n",
            "Epoch 52/400\n",
            "10/10 [==============================] - 0s 1ms/step - loss: 370.1969 - mae: 15.4038 - accuracy: 0.0000e+00\n",
            "Epoch 53/400\n",
            "10/10 [==============================] - 0s 1ms/step - loss: 371.9203 - mae: 15.3778 - accuracy: 0.0000e+00\n",
            "Epoch 54/400\n",
            "10/10 [==============================] - 0s 1ms/step - loss: 385.3736 - mae: 15.6105 - accuracy: 0.0000e+00\n",
            "Epoch 55/400\n",
            "10/10 [==============================] - 0s 1ms/step - loss: 368.4340 - mae: 15.4322 - accuracy: 0.0000e+00\n",
            "Epoch 56/400\n",
            "10/10 [==============================] - 0s 1ms/step - loss: 404.0917 - mae: 16.2596 - accuracy: 0.0000e+00\n",
            "Epoch 57/400\n",
            "10/10 [==============================] - 0s 1ms/step - loss: 393.9876 - mae: 15.8602 - accuracy: 0.0000e+00\n",
            "Epoch 58/400\n",
            "10/10 [==============================] - 0s 1ms/step - loss: 373.3806 - mae: 15.4491 - accuracy: 0.0000e+00\n",
            "Epoch 59/400\n",
            "10/10 [==============================] - 0s 1ms/step - loss: 383.6878 - mae: 15.4215 - accuracy: 0.0000e+00\n",
            "Epoch 60/400\n",
            "10/10 [==============================] - 0s 1ms/step - loss: 382.0381 - mae: 15.4549 - accuracy: 0.0000e+00\n",
            "Epoch 61/400\n",
            "10/10 [==============================] - 0s 1ms/step - loss: 379.0939 - mae: 15.4980 - accuracy: 0.0000e+00\n",
            "Epoch 62/400\n",
            "10/10 [==============================] - 0s 1ms/step - loss: 378.2523 - mae: 15.6119 - accuracy: 0.0000e+00\n",
            "Epoch 63/400\n",
            "10/10 [==============================] - 0s 1ms/step - loss: 372.4341 - mae: 15.4564 - accuracy: 0.0000e+00\n",
            "Epoch 64/400\n",
            "10/10 [==============================] - 0s 1ms/step - loss: 381.7783 - mae: 15.4479 - accuracy: 0.0000e+00\n",
            "Epoch 65/400\n",
            "10/10 [==============================] - 0s 1ms/step - loss: 395.4155 - mae: 15.9186 - accuracy: 0.0000e+00\n",
            "Epoch 66/400\n",
            "10/10 [==============================] - 0s 2ms/step - loss: 383.5965 - mae: 15.7003 - accuracy: 0.0000e+00\n",
            "Epoch 67/400\n",
            "10/10 [==============================] - 0s 2ms/step - loss: 370.7457 - mae: 15.2398 - accuracy: 0.0000e+00\n",
            "Epoch 68/400\n",
            "10/10 [==============================] - 0s 2ms/step - loss: 379.3859 - mae: 15.3329 - accuracy: 0.0000e+00\n",
            "Epoch 69/400\n",
            "10/10 [==============================] - 0s 1ms/step - loss: 381.1180 - mae: 15.6554 - accuracy: 0.0000e+00\n",
            "Epoch 70/400\n",
            "10/10 [==============================] - 0s 1ms/step - loss: 373.8407 - mae: 15.3710 - accuracy: 0.0000e+00\n",
            "Epoch 71/400\n",
            "10/10 [==============================] - 0s 1ms/step - loss: 393.6465 - mae: 15.9610 - accuracy: 0.0000e+00\n",
            "Epoch 72/400\n",
            "10/10 [==============================] - 0s 1ms/step - loss: 389.7405 - mae: 15.8061 - accuracy: 0.0000e+00\n",
            "Epoch 73/400\n",
            "10/10 [==============================] - 0s 1ms/step - loss: 384.9265 - mae: 15.5572 - accuracy: 0.0000e+00\n",
            "Epoch 74/400\n",
            "10/10 [==============================] - 0s 1ms/step - loss: 361.6968 - mae: 15.3191 - accuracy: 0.0000e+00\n",
            "Epoch 75/400\n",
            "10/10 [==============================] - 0s 2ms/step - loss: 385.3238 - mae: 15.6320 - accuracy: 0.0000e+00\n",
            "Epoch 76/400\n",
            "10/10 [==============================] - 0s 1ms/step - loss: 388.6302 - mae: 15.9073 - accuracy: 0.0000e+00\n",
            "Epoch 77/400\n",
            "10/10 [==============================] - 0s 1ms/step - loss: 395.7247 - mae: 15.8650 - accuracy: 0.0000e+00\n",
            "Epoch 78/400\n",
            "10/10 [==============================] - 0s 2ms/step - loss: 381.2515 - mae: 15.5941 - accuracy: 0.0000e+00\n",
            "Epoch 79/400\n",
            "10/10 [==============================] - 0s 1ms/step - loss: 405.3480 - mae: 16.1234 - accuracy: 0.0000e+00\n",
            "Epoch 80/400\n",
            "10/10 [==============================] - 0s 1ms/step - loss: 378.0823 - mae: 15.6034 - accuracy: 0.0000e+00\n",
            "Epoch 81/400\n",
            "10/10 [==============================] - 0s 2ms/step - loss: 383.1665 - mae: 15.7330 - accuracy: 0.0000e+00\n",
            "Epoch 82/400\n",
            "10/10 [==============================] - 0s 2ms/step - loss: 375.3786 - mae: 15.4449 - accuracy: 0.0000e+00\n",
            "Epoch 83/400\n",
            "10/10 [==============================] - 0s 1ms/step - loss: 378.2269 - mae: 15.5051 - accuracy: 0.0000e+00\n",
            "Epoch 84/400\n",
            "10/10 [==============================] - 0s 1ms/step - loss: 384.4402 - mae: 15.6128 - accuracy: 0.0000e+00\n",
            "Epoch 85/400\n",
            "10/10 [==============================] - 0s 1ms/step - loss: 381.5065 - mae: 15.6487 - accuracy: 0.0000e+00\n",
            "Epoch 86/400\n",
            "10/10 [==============================] - 0s 2ms/step - loss: 370.3444 - mae: 15.5013 - accuracy: 0.0000e+00\n",
            "Epoch 87/400\n",
            "10/10 [==============================] - 0s 1ms/step - loss: 364.2315 - mae: 15.2776 - accuracy: 0.0000e+00\n",
            "Epoch 88/400\n",
            "10/10 [==============================] - 0s 1ms/step - loss: 378.4460 - mae: 15.4909 - accuracy: 0.0000e+00\n",
            "Epoch 89/400\n",
            "10/10 [==============================] - 0s 2ms/step - loss: 369.8115 - mae: 15.1367 - accuracy: 0.0000e+00\n",
            "Epoch 90/400\n",
            "10/10 [==============================] - 0s 1ms/step - loss: 371.4402 - mae: 15.5059 - accuracy: 0.0000e+00\n",
            "Epoch 91/400\n",
            "10/10 [==============================] - 0s 2ms/step - loss: 377.6414 - mae: 15.6387 - accuracy: 0.0000e+00\n",
            "Epoch 92/400\n",
            "10/10 [==============================] - 0s 1ms/step - loss: 368.1538 - mae: 15.1667 - accuracy: 0.0000e+00\n",
            "Epoch 93/400\n",
            "10/10 [==============================] - 0s 1ms/step - loss: 376.9585 - mae: 15.3634 - accuracy: 0.0000e+00\n",
            "Epoch 94/400\n",
            "10/10 [==============================] - 0s 1ms/step - loss: 390.3512 - mae: 15.7955 - accuracy: 0.0000e+00\n",
            "Epoch 95/400\n",
            "10/10 [==============================] - 0s 1ms/step - loss: 399.1208 - mae: 16.0548 - accuracy: 0.0000e+00\n",
            "Epoch 96/400\n",
            "10/10 [==============================] - 0s 1ms/step - loss: 378.2880 - mae: 15.4560 - accuracy: 0.0000e+00\n",
            "Epoch 97/400\n",
            "10/10 [==============================] - 0s 2ms/step - loss: 380.5997 - mae: 15.6552 - accuracy: 0.0000e+00\n",
            "Epoch 98/400\n",
            "10/10 [==============================] - 0s 1ms/step - loss: 388.5284 - mae: 15.8244 - accuracy: 0.0000e+00\n",
            "Epoch 99/400\n",
            "10/10 [==============================] - 0s 1ms/step - loss: 372.3079 - mae: 15.3741 - accuracy: 0.0000e+00\n",
            "Epoch 100/400\n",
            "10/10 [==============================] - 0s 1ms/step - loss: 398.0666 - mae: 15.9686 - accuracy: 0.0000e+00\n",
            "Epoch 101/400\n",
            "10/10 [==============================] - 0s 2ms/step - loss: 374.1592 - mae: 15.3541 - accuracy: 0.0000e+00\n",
            "Epoch 102/400\n",
            "10/10 [==============================] - 0s 1ms/step - loss: 399.1222 - mae: 16.1287 - accuracy: 0.0000e+00\n",
            "Epoch 103/400\n",
            "10/10 [==============================] - 0s 2ms/step - loss: 392.2993 - mae: 15.9345 - accuracy: 0.0000e+00\n",
            "Epoch 104/400\n",
            "10/10 [==============================] - 0s 2ms/step - loss: 402.2312 - mae: 16.2124 - accuracy: 0.0000e+00\n",
            "Epoch 105/400\n",
            "10/10 [==============================] - 0s 1ms/step - loss: 412.9449 - mae: 16.2332 - accuracy: 0.0000e+00\n",
            "Epoch 106/400\n",
            "10/10 [==============================] - 0s 2ms/step - loss: 389.8405 - mae: 15.7636 - accuracy: 0.0000e+00\n",
            "Epoch 107/400\n",
            "10/10 [==============================] - 0s 2ms/step - loss: 393.6799 - mae: 15.7823 - accuracy: 0.0000e+00\n",
            "Epoch 108/400\n",
            "10/10 [==============================] - 0s 2ms/step - loss: 385.9103 - mae: 15.7628 - accuracy: 0.0000e+00\n",
            "Epoch 109/400\n",
            "10/10 [==============================] - 0s 1ms/step - loss: 398.2044 - mae: 15.8420 - accuracy: 0.0000e+00\n",
            "Epoch 110/400\n",
            "10/10 [==============================] - 0s 2ms/step - loss: 390.1686 - mae: 15.8353 - accuracy: 0.0000e+00\n",
            "Epoch 111/400\n",
            "10/10 [==============================] - 0s 2ms/step - loss: 387.9128 - mae: 15.7376 - accuracy: 0.0000e+00\n",
            "Epoch 112/400\n",
            "10/10 [==============================] - 0s 1ms/step - loss: 361.9383 - mae: 15.1850 - accuracy: 0.0000e+00\n",
            "Epoch 113/400\n",
            "10/10 [==============================] - 0s 1ms/step - loss: 404.5771 - mae: 15.9809 - accuracy: 0.0000e+00\n",
            "Epoch 114/400\n",
            "10/10 [==============================] - 0s 2ms/step - loss: 372.8393 - mae: 15.4345 - accuracy: 0.0000e+00\n",
            "Epoch 115/400\n",
            "10/10 [==============================] - 0s 1ms/step - loss: 386.6981 - mae: 15.5804 - accuracy: 0.0000e+00\n",
            "Epoch 116/400\n",
            "10/10 [==============================] - 0s 1ms/step - loss: 404.1671 - mae: 16.0461 - accuracy: 0.0000e+00\n",
            "Epoch 117/400\n",
            "10/10 [==============================] - 0s 1ms/step - loss: 375.7428 - mae: 15.6126 - accuracy: 0.0000e+00\n",
            "Epoch 118/400\n",
            "10/10 [==============================] - 0s 2ms/step - loss: 399.9015 - mae: 15.9643 - accuracy: 0.0000e+00\n",
            "Epoch 119/400\n",
            "10/10 [==============================] - 0s 1ms/step - loss: 365.4479 - mae: 15.3499 - accuracy: 0.0000e+00\n",
            "Epoch 120/400\n",
            "10/10 [==============================] - 0s 1ms/step - loss: 344.9083 - mae: 14.8308 - accuracy: 0.0000e+00\n",
            "Epoch 121/400\n",
            "10/10 [==============================] - 0s 2ms/step - loss: 382.3742 - mae: 15.5763 - accuracy: 0.0000e+00\n",
            "Epoch 122/400\n",
            "10/10 [==============================] - 0s 2ms/step - loss: 387.8434 - mae: 15.8125 - accuracy: 0.0000e+00\n",
            "Epoch 123/400\n",
            "10/10 [==============================] - 0s 2ms/step - loss: 366.5939 - mae: 15.2074 - accuracy: 0.0000e+00\n",
            "Epoch 124/400\n",
            "10/10 [==============================] - 0s 2ms/step - loss: 368.6637 - mae: 15.4242 - accuracy: 0.0000e+00\n",
            "Epoch 125/400\n",
            "10/10 [==============================] - 0s 2ms/step - loss: 367.8432 - mae: 15.1522 - accuracy: 0.0000e+00\n",
            "Epoch 126/400\n",
            "10/10 [==============================] - 0s 1ms/step - loss: 366.8650 - mae: 15.3711 - accuracy: 0.0000e+00\n",
            "Epoch 127/400\n",
            "10/10 [==============================] - 0s 2ms/step - loss: 376.3385 - mae: 15.6274 - accuracy: 0.0000e+00\n",
            "Epoch 128/400\n",
            "10/10 [==============================] - 0s 2ms/step - loss: 383.4449 - mae: 15.7082 - accuracy: 0.0000e+00\n",
            "Epoch 129/400\n",
            "10/10 [==============================] - 0s 2ms/step - loss: 408.5077 - mae: 16.0781 - accuracy: 0.0000e+00\n",
            "Epoch 130/400\n",
            "10/10 [==============================] - 0s 1ms/step - loss: 397.6786 - mae: 16.1600 - accuracy: 0.0000e+00\n",
            "Epoch 131/400\n",
            "10/10 [==============================] - 0s 2ms/step - loss: 387.9193 - mae: 15.5716 - accuracy: 0.0000e+00\n",
            "Epoch 132/400\n",
            "10/10 [==============================] - 0s 1ms/step - loss: 378.3990 - mae: 15.4501 - accuracy: 0.0000e+00\n",
            "Epoch 133/400\n",
            "10/10 [==============================] - 0s 2ms/step - loss: 390.3470 - mae: 15.7296 - accuracy: 0.0000e+00\n",
            "Epoch 134/400\n",
            "10/10 [==============================] - 0s 2ms/step - loss: 348.6789 - mae: 14.7640 - accuracy: 0.0000e+00\n",
            "Epoch 135/400\n",
            "10/10 [==============================] - 0s 1ms/step - loss: 365.0737 - mae: 15.3086 - accuracy: 0.0000e+00\n",
            "Epoch 136/400\n",
            "10/10 [==============================] - 0s 2ms/step - loss: 392.3082 - mae: 16.0037 - accuracy: 0.0000e+00\n",
            "Epoch 137/400\n",
            "10/10 [==============================] - 0s 1ms/step - loss: 382.1060 - mae: 15.6225 - accuracy: 0.0000e+00\n",
            "Epoch 138/400\n",
            "10/10 [==============================] - 0s 2ms/step - loss: 363.4787 - mae: 15.1896 - accuracy: 0.0000e+00\n",
            "Epoch 139/400\n",
            "10/10 [==============================] - 0s 1ms/step - loss: 387.5914 - mae: 15.5656 - accuracy: 0.0000e+00\n",
            "Epoch 140/400\n",
            "10/10 [==============================] - 0s 1ms/step - loss: 397.6627 - mae: 15.9856 - accuracy: 0.0000e+00\n",
            "Epoch 141/400\n",
            "10/10 [==============================] - 0s 2ms/step - loss: 396.4939 - mae: 16.0702 - accuracy: 0.0000e+00\n",
            "Epoch 142/400\n",
            "10/10 [==============================] - 0s 2ms/step - loss: 368.4919 - mae: 15.4423 - accuracy: 0.0000e+00\n",
            "Epoch 143/400\n",
            "10/10 [==============================] - 0s 2ms/step - loss: 394.1320 - mae: 16.0777 - accuracy: 0.0000e+00\n",
            "Epoch 144/400\n",
            "10/10 [==============================] - 0s 2ms/step - loss: 387.8117 - mae: 15.5352 - accuracy: 0.0000e+00\n",
            "Epoch 145/400\n",
            "10/10 [==============================] - 0s 2ms/step - loss: 386.0683 - mae: 15.8813 - accuracy: 0.0000e+00\n",
            "Epoch 146/400\n",
            "10/10 [==============================] - 0s 1ms/step - loss: 361.7495 - mae: 15.0633 - accuracy: 0.0000e+00\n",
            "Epoch 147/400\n",
            "10/10 [==============================] - 0s 1ms/step - loss: 405.8697 - mae: 16.1168 - accuracy: 0.0000e+00\n",
            "Epoch 148/400\n",
            "10/10 [==============================] - 0s 2ms/step - loss: 393.8964 - mae: 15.7913 - accuracy: 0.0000e+00\n",
            "Epoch 149/400\n",
            "10/10 [==============================] - 0s 1ms/step - loss: 411.8700 - mae: 16.1911 - accuracy: 0.0000e+00\n",
            "Epoch 150/400\n",
            "10/10 [==============================] - 0s 1ms/step - loss: 401.1408 - mae: 15.8845 - accuracy: 0.0000e+00\n",
            "Epoch 151/400\n",
            "10/10 [==============================] - 0s 2ms/step - loss: 397.0910 - mae: 16.0019 - accuracy: 0.0000e+00\n",
            "Epoch 152/400\n",
            "10/10 [==============================] - 0s 2ms/step - loss: 366.7243 - mae: 15.1685 - accuracy: 0.0000e+00\n",
            "Epoch 153/400\n",
            "10/10 [==============================] - 0s 2ms/step - loss: 388.0714 - mae: 15.8384 - accuracy: 0.0000e+00\n",
            "Epoch 154/400\n",
            "10/10 [==============================] - 0s 2ms/step - loss: 397.5937 - mae: 15.8861 - accuracy: 0.0000e+00\n",
            "Epoch 155/400\n",
            "10/10 [==============================] - 0s 2ms/step - loss: 361.4148 - mae: 15.2237 - accuracy: 0.0000e+00\n",
            "Epoch 156/400\n",
            "10/10 [==============================] - 0s 1ms/step - loss: 383.2172 - mae: 15.5017 - accuracy: 0.0000e+00\n",
            "Epoch 157/400\n",
            "10/10 [==============================] - 0s 2ms/step - loss: 361.0115 - mae: 15.1701 - accuracy: 0.0000e+00\n",
            "Epoch 158/400\n",
            "10/10 [==============================] - 0s 2ms/step - loss: 383.0842 - mae: 15.6329 - accuracy: 0.0000e+00\n",
            "Epoch 159/400\n",
            "10/10 [==============================] - 0s 2ms/step - loss: 390.0596 - mae: 15.7431 - accuracy: 0.0000e+00\n",
            "Epoch 160/400\n",
            "10/10 [==============================] - 0s 1ms/step - loss: 392.5047 - mae: 15.8632 - accuracy: 0.0000e+00\n",
            "Epoch 161/400\n",
            "10/10 [==============================] - 0s 2ms/step - loss: 385.0786 - mae: 15.5133 - accuracy: 0.0000e+00\n",
            "Epoch 162/400\n",
            "10/10 [==============================] - 0s 2ms/step - loss: 366.2452 - mae: 15.4397 - accuracy: 0.0000e+00\n",
            "Epoch 163/400\n",
            "10/10 [==============================] - 0s 2ms/step - loss: 391.0271 - mae: 15.9510 - accuracy: 0.0000e+00\n",
            "Epoch 164/400\n",
            "10/10 [==============================] - 0s 1ms/step - loss: 367.9931 - mae: 15.3624 - accuracy: 0.0000e+00\n",
            "Epoch 165/400\n",
            "10/10 [==============================] - 0s 2ms/step - loss: 377.5372 - mae: 15.6920 - accuracy: 0.0000e+00\n",
            "Epoch 166/400\n",
            "10/10 [==============================] - 0s 1ms/step - loss: 396.3419 - mae: 15.8931 - accuracy: 0.0000e+00\n",
            "Epoch 167/400\n",
            "10/10 [==============================] - 0s 1ms/step - loss: 385.5705 - mae: 15.7149 - accuracy: 0.0000e+00\n",
            "Epoch 168/400\n",
            "10/10 [==============================] - 0s 2ms/step - loss: 410.0717 - mae: 16.2895 - accuracy: 0.0000e+00\n",
            "Epoch 169/400\n",
            "10/10 [==============================] - 0s 2ms/step - loss: 370.9990 - mae: 15.2444 - accuracy: 0.0000e+00\n",
            "Epoch 170/400\n",
            "10/10 [==============================] - 0s 2ms/step - loss: 402.8112 - mae: 16.2189 - accuracy: 0.0000e+00\n",
            "Epoch 171/400\n",
            "10/10 [==============================] - 0s 2ms/step - loss: 368.9750 - mae: 15.2096 - accuracy: 0.0000e+00\n",
            "Epoch 172/400\n",
            "10/10 [==============================] - 0s 2ms/step - loss: 367.5794 - mae: 15.2127 - accuracy: 0.0000e+00\n",
            "Epoch 173/400\n",
            "10/10 [==============================] - 0s 2ms/step - loss: 378.9454 - mae: 15.5243 - accuracy: 0.0000e+00\n",
            "Epoch 174/400\n",
            "10/10 [==============================] - 0s 1ms/step - loss: 386.3421 - mae: 15.6775 - accuracy: 0.0000e+00\n",
            "Epoch 175/400\n",
            "10/10 [==============================] - 0s 2ms/step - loss: 374.0117 - mae: 15.3806 - accuracy: 0.0000e+00\n",
            "Epoch 176/400\n",
            "10/10 [==============================] - 0s 2ms/step - loss: 390.4701 - mae: 15.7726 - accuracy: 0.0000e+00\n",
            "Epoch 177/400\n",
            "10/10 [==============================] - 0s 2ms/step - loss: 383.8212 - mae: 15.6506 - accuracy: 0.0000e+00\n",
            "Epoch 178/400\n",
            "10/10 [==============================] - 0s 2ms/step - loss: 381.3167 - mae: 15.6252 - accuracy: 0.0000e+00\n",
            "Epoch 179/400\n",
            "10/10 [==============================] - 0s 2ms/step - loss: 404.5887 - mae: 16.1928 - accuracy: 0.0000e+00\n",
            "Epoch 180/400\n",
            "10/10 [==============================] - 0s 2ms/step - loss: 376.1171 - mae: 15.6343 - accuracy: 0.0000e+00\n",
            "Epoch 181/400\n",
            "10/10 [==============================] - 0s 1ms/step - loss: 374.0465 - mae: 15.3638 - accuracy: 0.0000e+00\n",
            "Epoch 182/400\n",
            "10/10 [==============================] - 0s 1ms/step - loss: 383.7232 - mae: 15.7251 - accuracy: 0.0000e+00\n",
            "Epoch 183/400\n",
            "10/10 [==============================] - 0s 2ms/step - loss: 382.5943 - mae: 15.6484 - accuracy: 0.0000e+00\n",
            "Epoch 184/400\n",
            "10/10 [==============================] - 0s 2ms/step - loss: 370.9689 - mae: 15.4607 - accuracy: 0.0000e+00\n",
            "Epoch 185/400\n",
            "10/10 [==============================] - 0s 2ms/step - loss: 378.1045 - mae: 15.4651 - accuracy: 0.0000e+00\n",
            "Epoch 186/400\n",
            "10/10 [==============================] - 0s 1ms/step - loss: 399.8521 - mae: 15.9782 - accuracy: 0.0000e+00\n",
            "Epoch 187/400\n",
            "10/10 [==============================] - 0s 1ms/step - loss: 384.7740 - mae: 15.8382 - accuracy: 0.0000e+00\n",
            "Epoch 188/400\n",
            "10/10 [==============================] - 0s 1ms/step - loss: 411.2656 - mae: 16.2870 - accuracy: 0.0000e+00\n",
            "Epoch 189/400\n",
            "10/10 [==============================] - 0s 2ms/step - loss: 369.5535 - mae: 15.2492 - accuracy: 0.0000e+00\n",
            "Epoch 190/400\n",
            "10/10 [==============================] - 0s 1ms/step - loss: 356.9637 - mae: 15.0606 - accuracy: 0.0000e+00\n",
            "Epoch 191/400\n",
            "10/10 [==============================] - 0s 1ms/step - loss: 353.6077 - mae: 14.9930 - accuracy: 0.0000e+00\n",
            "Epoch 192/400\n",
            "10/10 [==============================] - 0s 2ms/step - loss: 389.8821 - mae: 15.6975 - accuracy: 0.0000e+00\n",
            "Epoch 193/400\n",
            "10/10 [==============================] - 0s 2ms/step - loss: 361.9619 - mae: 15.1518 - accuracy: 0.0000e+00\n",
            "Epoch 194/400\n",
            "10/10 [==============================] - 0s 2ms/step - loss: 366.7163 - mae: 15.3664 - accuracy: 0.0000e+00\n",
            "Epoch 195/400\n",
            "10/10 [==============================] - 0s 1ms/step - loss: 372.5418 - mae: 15.7147 - accuracy: 0.0000e+00\n",
            "Epoch 196/400\n",
            "10/10 [==============================] - 0s 2ms/step - loss: 370.8009 - mae: 15.3716 - accuracy: 0.0000e+00\n",
            "Epoch 197/400\n",
            "10/10 [==============================] - 0s 2ms/step - loss: 372.7183 - mae: 15.3570 - accuracy: 0.0000e+00\n",
            "Epoch 198/400\n",
            "10/10 [==============================] - 0s 2ms/step - loss: 379.0628 - mae: 15.6456 - accuracy: 0.0000e+00\n",
            "Epoch 199/400\n",
            "10/10 [==============================] - 0s 1ms/step - loss: 381.1118 - mae: 15.6585 - accuracy: 0.0000e+00\n",
            "Epoch 200/400\n",
            "10/10 [==============================] - 0s 2ms/step - loss: 386.3846 - mae: 15.6879 - accuracy: 0.0000e+00\n",
            "Epoch 201/400\n",
            "10/10 [==============================] - 0s 2ms/step - loss: 381.7347 - mae: 15.6435 - accuracy: 0.0000e+00\n",
            "Epoch 202/400\n",
            "10/10 [==============================] - 0s 2ms/step - loss: 367.6273 - mae: 15.4471 - accuracy: 0.0000e+00\n",
            "Epoch 203/400\n",
            "10/10 [==============================] - 0s 2ms/step - loss: 376.0097 - mae: 15.5211 - accuracy: 0.0000e+00\n",
            "Epoch 204/400\n",
            "10/10 [==============================] - 0s 2ms/step - loss: 376.5458 - mae: 15.3771 - accuracy: 0.0000e+00\n",
            "Epoch 205/400\n",
            "10/10 [==============================] - 0s 2ms/step - loss: 388.1714 - mae: 15.7619 - accuracy: 0.0000e+00\n",
            "Epoch 206/400\n",
            "10/10 [==============================] - 0s 2ms/step - loss: 380.3548 - mae: 15.7996 - accuracy: 0.0000e+00\n",
            "Epoch 207/400\n",
            "10/10 [==============================] - 0s 1ms/step - loss: 384.6118 - mae: 15.6567 - accuracy: 0.0000e+00\n",
            "Epoch 208/400\n",
            "10/10 [==============================] - 0s 1ms/step - loss: 382.8788 - mae: 15.7160 - accuracy: 0.0000e+00\n",
            "Epoch 209/400\n",
            "10/10 [==============================] - 0s 2ms/step - loss: 372.3358 - mae: 15.4245 - accuracy: 0.0000e+00\n",
            "Epoch 210/400\n",
            "10/10 [==============================] - 0s 2ms/step - loss: 388.4234 - mae: 16.0139 - accuracy: 0.0000e+00\n",
            "Epoch 211/400\n",
            "10/10 [==============================] - 0s 2ms/step - loss: 369.7401 - mae: 15.3166 - accuracy: 0.0000e+00\n",
            "Epoch 212/400\n",
            "10/10 [==============================] - 0s 2ms/step - loss: 408.7463 - mae: 16.3371 - accuracy: 0.0000e+00\n",
            "Epoch 213/400\n",
            "10/10 [==============================] - 0s 2ms/step - loss: 400.9214 - mae: 15.9353 - accuracy: 0.0000e+00\n",
            "Epoch 214/400\n",
            "10/10 [==============================] - 0s 2ms/step - loss: 397.4017 - mae: 15.9038 - accuracy: 0.0000e+00\n",
            "Epoch 215/400\n",
            "10/10 [==============================] - 0s 2ms/step - loss: 376.7999 - mae: 15.7185 - accuracy: 0.0000e+00\n",
            "Epoch 216/400\n",
            "10/10 [==============================] - 0s 2ms/step - loss: 358.4545 - mae: 15.0799 - accuracy: 0.0000e+00\n",
            "Epoch 217/400\n",
            "10/10 [==============================] - 0s 1ms/step - loss: 377.8502 - mae: 15.4588 - accuracy: 0.0000e+00\n",
            "Epoch 218/400\n",
            "10/10 [==============================] - 0s 2ms/step - loss: 384.6001 - mae: 15.7203 - accuracy: 0.0000e+00\n",
            "Epoch 219/400\n",
            "10/10 [==============================] - 0s 2ms/step - loss: 376.1086 - mae: 15.7214 - accuracy: 0.0000e+00\n",
            "Epoch 220/400\n",
            "10/10 [==============================] - 0s 2ms/step - loss: 366.5340 - mae: 15.2636 - accuracy: 0.0000e+00\n",
            "Epoch 221/400\n",
            "10/10 [==============================] - 0s 2ms/step - loss: 385.8210 - mae: 15.7254 - accuracy: 0.0000e+00\n",
            "Epoch 222/400\n",
            "10/10 [==============================] - 0s 2ms/step - loss: 376.0978 - mae: 15.7995 - accuracy: 0.0000e+00\n",
            "Epoch 223/400\n",
            "10/10 [==============================] - 0s 1ms/step - loss: 375.1115 - mae: 15.4925 - accuracy: 0.0000e+00\n",
            "Epoch 224/400\n",
            "10/10 [==============================] - 0s 2ms/step - loss: 373.8286 - mae: 15.2236 - accuracy: 0.0000e+00\n",
            "Epoch 225/400\n",
            "10/10 [==============================] - 0s 2ms/step - loss: 356.6107 - mae: 14.9388 - accuracy: 0.0000e+00\n",
            "Epoch 226/400\n",
            "10/10 [==============================] - 0s 2ms/step - loss: 362.9333 - mae: 15.2243 - accuracy: 0.0000e+00\n",
            "Epoch 227/400\n",
            "10/10 [==============================] - 0s 2ms/step - loss: 381.7705 - mae: 15.5561 - accuracy: 0.0000e+00\n",
            "Epoch 228/400\n",
            "10/10 [==============================] - 0s 1ms/step - loss: 392.3304 - mae: 15.7086 - accuracy: 0.0000e+00\n",
            "Epoch 229/400\n",
            "10/10 [==============================] - 0s 2ms/step - loss: 363.4082 - mae: 15.3192 - accuracy: 0.0000e+00\n",
            "Epoch 230/400\n",
            "10/10 [==============================] - 0s 2ms/step - loss: 390.8529 - mae: 15.9531 - accuracy: 0.0000e+00\n",
            "Epoch 231/400\n",
            "10/10 [==============================] - 0s 2ms/step - loss: 387.1537 - mae: 15.8296 - accuracy: 0.0000e+00\n",
            "Epoch 232/400\n",
            "10/10 [==============================] - 0s 2ms/step - loss: 375.2590 - mae: 15.4231 - accuracy: 0.0000e+00\n",
            "Epoch 233/400\n",
            "10/10 [==============================] - 0s 2ms/step - loss: 359.5456 - mae: 15.0853 - accuracy: 0.0000e+00\n",
            "Epoch 234/400\n",
            "10/10 [==============================] - 0s 1ms/step - loss: 383.9530 - mae: 15.5151 - accuracy: 0.0000e+00\n",
            "Epoch 235/400\n",
            "10/10 [==============================] - 0s 2ms/step - loss: 365.0921 - mae: 15.0926 - accuracy: 0.0000e+00\n",
            "Epoch 236/400\n",
            "10/10 [==============================] - 0s 3ms/step - loss: 380.2460 - mae: 15.6078 - accuracy: 0.0000e+00\n",
            "Epoch 237/400\n",
            "10/10 [==============================] - 0s 1ms/step - loss: 397.5671 - mae: 15.8484 - accuracy: 0.0000e+00\n",
            "Epoch 238/400\n",
            "10/10 [==============================] - 0s 2ms/step - loss: 365.8510 - mae: 15.3474 - accuracy: 0.0000e+00\n",
            "Epoch 239/400\n",
            "10/10 [==============================] - 0s 3ms/step - loss: 385.4072 - mae: 15.4803 - accuracy: 0.0000e+00\n",
            "Epoch 240/400\n",
            "10/10 [==============================] - 0s 2ms/step - loss: 391.5804 - mae: 15.6959 - accuracy: 0.0000e+00\n",
            "Epoch 241/400\n",
            "10/10 [==============================] - 0s 2ms/step - loss: 405.4144 - mae: 16.0993 - accuracy: 0.0000e+00\n",
            "Epoch 242/400\n",
            "10/10 [==============================] - 0s 2ms/step - loss: 383.0654 - mae: 15.6975 - accuracy: 0.0000e+00\n",
            "Epoch 243/400\n",
            "10/10 [==============================] - 0s 2ms/step - loss: 384.3031 - mae: 15.6047 - accuracy: 0.0000e+00\n",
            "Epoch 244/400\n",
            "10/10 [==============================] - 0s 1ms/step - loss: 371.1593 - mae: 15.3970 - accuracy: 0.0000e+00\n",
            "Epoch 245/400\n",
            "10/10 [==============================] - 0s 1ms/step - loss: 378.6143 - mae: 15.6228 - accuracy: 0.0000e+00\n",
            "Epoch 246/400\n",
            "10/10 [==============================] - 0s 2ms/step - loss: 381.0275 - mae: 15.6577 - accuracy: 0.0000e+00\n",
            "Epoch 247/400\n",
            "10/10 [==============================] - 0s 2ms/step - loss: 386.2706 - mae: 15.5839 - accuracy: 0.0000e+00\n",
            "Epoch 248/400\n",
            "10/10 [==============================] - 0s 2ms/step - loss: 407.4716 - mae: 16.0933 - accuracy: 0.0000e+00\n",
            "Epoch 249/400\n",
            "10/10 [==============================] - 0s 2ms/step - loss: 387.8125 - mae: 15.6623 - accuracy: 0.0000e+00\n",
            "Epoch 250/400\n",
            "10/10 [==============================] - 0s 2ms/step - loss: 369.8851 - mae: 15.2921 - accuracy: 0.0000e+00\n",
            "Epoch 251/400\n",
            "10/10 [==============================] - 0s 2ms/step - loss: 386.9192 - mae: 15.7376 - accuracy: 0.0000e+00\n",
            "Epoch 252/400\n",
            "10/10 [==============================] - 0s 2ms/step - loss: 399.2834 - mae: 16.0609 - accuracy: 0.0000e+00\n",
            "Epoch 253/400\n",
            "10/10 [==============================] - 0s 1ms/step - loss: 390.5877 - mae: 15.7387 - accuracy: 0.0000e+00\n",
            "Epoch 254/400\n",
            "10/10 [==============================] - 0s 2ms/step - loss: 382.9491 - mae: 15.5127 - accuracy: 0.0000e+00\n",
            "Epoch 255/400\n",
            "10/10 [==============================] - 0s 2ms/step - loss: 370.1823 - mae: 15.3567 - accuracy: 0.0000e+00\n",
            "Epoch 256/400\n",
            "10/10 [==============================] - 0s 2ms/step - loss: 370.4239 - mae: 15.3953 - accuracy: 0.0000e+00\n",
            "Epoch 257/400\n",
            "10/10 [==============================] - 0s 2ms/step - loss: 359.7349 - mae: 15.0635 - accuracy: 0.0000e+00\n",
            "Epoch 258/400\n",
            "10/10 [==============================] - 0s 2ms/step - loss: 376.6015 - mae: 15.5220 - accuracy: 0.0000e+00\n",
            "Epoch 259/400\n",
            "10/10 [==============================] - 0s 2ms/step - loss: 380.0016 - mae: 15.6724 - accuracy: 0.0000e+00\n",
            "Epoch 260/400\n",
            "10/10 [==============================] - 0s 2ms/step - loss: 370.9507 - mae: 15.2805 - accuracy: 0.0000e+00\n",
            "Epoch 261/400\n",
            "10/10 [==============================] - 0s 2ms/step - loss: 386.1676 - mae: 15.8685 - accuracy: 0.0000e+00\n",
            "Epoch 262/400\n",
            "10/10 [==============================] - 0s 2ms/step - loss: 375.5682 - mae: 15.6534 - accuracy: 0.0000e+00\n",
            "Epoch 263/400\n",
            "10/10 [==============================] - 0s 1ms/step - loss: 404.0826 - mae: 16.0729 - accuracy: 0.0000e+00\n",
            "Epoch 264/400\n",
            "10/10 [==============================] - 0s 2ms/step - loss: 386.8466 - mae: 15.9453 - accuracy: 0.0000e+00\n",
            "Epoch 265/400\n",
            "10/10 [==============================] - 0s 2ms/step - loss: 367.3633 - mae: 15.1354 - accuracy: 0.0000e+00\n",
            "Epoch 266/400\n",
            "10/10 [==============================] - 0s 2ms/step - loss: 361.4575 - mae: 15.3051 - accuracy: 0.0000e+00\n",
            "Epoch 267/400\n",
            "10/10 [==============================] - 0s 1ms/step - loss: 393.4898 - mae: 15.9328 - accuracy: 0.0000e+00\n",
            "Epoch 268/400\n",
            "10/10 [==============================] - 0s 2ms/step - loss: 378.9847 - mae: 15.5955 - accuracy: 0.0000e+00\n",
            "Epoch 269/400\n",
            "10/10 [==============================] - 0s 2ms/step - loss: 390.1569 - mae: 15.8501 - accuracy: 0.0000e+00\n",
            "Epoch 270/400\n",
            "10/10 [==============================] - 0s 2ms/step - loss: 405.6998 - mae: 16.0234 - accuracy: 0.0000e+00\n",
            "Epoch 271/400\n",
            "10/10 [==============================] - 0s 2ms/step - loss: 377.3044 - mae: 15.4723 - accuracy: 0.0000e+00\n",
            "Epoch 272/400\n",
            "10/10 [==============================] - 0s 2ms/step - loss: 363.8640 - mae: 15.3798 - accuracy: 0.0000e+00\n",
            "Epoch 273/400\n",
            "10/10 [==============================] - 0s 2ms/step - loss: 401.9135 - mae: 15.8887 - accuracy: 0.0000e+00\n",
            "Epoch 274/400\n",
            "10/10 [==============================] - 0s 2ms/step - loss: 405.7483 - mae: 15.9741 - accuracy: 0.0000e+00\n",
            "Epoch 275/400\n",
            "10/10 [==============================] - 0s 2ms/step - loss: 375.7238 - mae: 15.3540 - accuracy: 0.0000e+00\n",
            "Epoch 276/400\n",
            "10/10 [==============================] - 0s 2ms/step - loss: 367.1230 - mae: 15.2158 - accuracy: 0.0000e+00\n",
            "Epoch 277/400\n",
            "10/10 [==============================] - 0s 2ms/step - loss: 371.7322 - mae: 15.4348 - accuracy: 0.0000e+00\n",
            "Epoch 278/400\n",
            "10/10 [==============================] - 0s 2ms/step - loss: 379.6010 - mae: 15.4984 - accuracy: 0.0000e+00\n",
            "Epoch 279/400\n",
            "10/10 [==============================] - 0s 1ms/step - loss: 369.9777 - mae: 15.3695 - accuracy: 0.0000e+00\n",
            "Epoch 280/400\n",
            "10/10 [==============================] - 0s 1ms/step - loss: 386.1596 - mae: 15.7660 - accuracy: 0.0000e+00\n",
            "Epoch 281/400\n",
            "10/10 [==============================] - 0s 2ms/step - loss: 370.7724 - mae: 15.5328 - accuracy: 0.0000e+00\n",
            "Epoch 282/400\n",
            "10/10 [==============================] - 0s 2ms/step - loss: 380.0446 - mae: 15.3467 - accuracy: 0.0000e+00\n",
            "Epoch 283/400\n",
            "10/10 [==============================] - 0s 2ms/step - loss: 393.2907 - mae: 15.9273 - accuracy: 0.0000e+00\n",
            "Epoch 284/400\n",
            "10/10 [==============================] - 0s 1ms/step - loss: 359.4837 - mae: 15.1736 - accuracy: 0.0000e+00\n",
            "Epoch 285/400\n",
            "10/10 [==============================] - 0s 3ms/step - loss: 371.1403 - mae: 15.4658 - accuracy: 0.0000e+00\n",
            "Epoch 286/400\n",
            "10/10 [==============================] - 0s 2ms/step - loss: 372.6626 - mae: 15.2150 - accuracy: 0.0000e+00\n",
            "Epoch 287/400\n",
            "10/10 [==============================] - 0s 2ms/step - loss: 376.0823 - mae: 15.4987 - accuracy: 0.0000e+00\n",
            "Epoch 288/400\n",
            "10/10 [==============================] - 0s 2ms/step - loss: 350.5394 - mae: 14.9615 - accuracy: 0.0000e+00\n",
            "Epoch 289/400\n",
            "10/10 [==============================] - 0s 2ms/step - loss: 386.5600 - mae: 15.6914 - accuracy: 0.0000e+00\n",
            "Epoch 290/400\n",
            "10/10 [==============================] - 0s 2ms/step - loss: 414.2069 - mae: 16.1667 - accuracy: 0.0000e+00\n",
            "Epoch 291/400\n",
            "10/10 [==============================] - 0s 2ms/step - loss: 380.4846 - mae: 15.6094 - accuracy: 0.0000e+00\n",
            "Epoch 292/400\n",
            "10/10 [==============================] - 0s 2ms/step - loss: 381.0269 - mae: 15.8028 - accuracy: 0.0000e+00\n",
            "Epoch 293/400\n",
            "10/10 [==============================] - 0s 2ms/step - loss: 384.5873 - mae: 15.4975 - accuracy: 0.0000e+00\n",
            "Epoch 294/400\n",
            "10/10 [==============================] - 0s 2ms/step - loss: 351.7695 - mae: 15.0383 - accuracy: 0.0000e+00\n",
            "Epoch 295/400\n",
            "10/10 [==============================] - 0s 2ms/step - loss: 365.3733 - mae: 15.2456 - accuracy: 0.0000e+00\n",
            "Epoch 296/400\n",
            "10/10 [==============================] - 0s 2ms/step - loss: 380.9658 - mae: 15.8037 - accuracy: 0.0000e+00\n",
            "Epoch 297/400\n",
            "10/10 [==============================] - 0s 2ms/step - loss: 378.9847 - mae: 15.6753 - accuracy: 0.0000e+00\n",
            "Epoch 298/400\n",
            "10/10 [==============================] - 0s 2ms/step - loss: 369.4495 - mae: 15.5959 - accuracy: 0.0000e+00\n",
            "Epoch 299/400\n",
            "10/10 [==============================] - 0s 2ms/step - loss: 379.9971 - mae: 15.6851 - accuracy: 0.0000e+00\n",
            "Epoch 300/400\n",
            "10/10 [==============================] - 0s 2ms/step - loss: 372.6635 - mae: 15.4203 - accuracy: 0.0000e+00\n",
            "Epoch 301/400\n",
            "10/10 [==============================] - 0s 2ms/step - loss: 376.2867 - mae: 15.4482 - accuracy: 0.0000e+00\n",
            "Epoch 302/400\n",
            "10/10 [==============================] - 0s 2ms/step - loss: 386.7665 - mae: 15.7300 - accuracy: 0.0000e+00\n",
            "Epoch 303/400\n",
            "10/10 [==============================] - 0s 2ms/step - loss: 375.9433 - mae: 15.4596 - accuracy: 0.0000e+00\n",
            "Epoch 304/400\n",
            "10/10 [==============================] - 0s 2ms/step - loss: 370.3641 - mae: 15.4528 - accuracy: 0.0000e+00\n",
            "Epoch 305/400\n",
            "10/10 [==============================] - 0s 2ms/step - loss: 391.1303 - mae: 15.7047 - accuracy: 0.0000e+00\n",
            "Epoch 306/400\n",
            "10/10 [==============================] - 0s 2ms/step - loss: 369.2632 - mae: 15.1925 - accuracy: 0.0000e+00\n",
            "Epoch 307/400\n",
            "10/10 [==============================] - 0s 2ms/step - loss: 354.5168 - mae: 15.0711 - accuracy: 0.0000e+00\n",
            "Epoch 308/400\n",
            "10/10 [==============================] - 0s 2ms/step - loss: 386.4042 - mae: 15.7059 - accuracy: 0.0000e+00\n",
            "Epoch 309/400\n",
            "10/10 [==============================] - 0s 2ms/step - loss: 366.7907 - mae: 15.3783 - accuracy: 0.0000e+00\n",
            "Epoch 310/400\n",
            "10/10 [==============================] - 0s 2ms/step - loss: 374.8801 - mae: 15.3829 - accuracy: 0.0000e+00\n",
            "Epoch 311/400\n",
            "10/10 [==============================] - 0s 2ms/step - loss: 374.0033 - mae: 15.6246 - accuracy: 0.0000e+00\n",
            "Epoch 312/400\n",
            "10/10 [==============================] - 0s 2ms/step - loss: 378.2155 - mae: 15.4270 - accuracy: 0.0000e+00\n",
            "Epoch 313/400\n",
            "10/10 [==============================] - 0s 2ms/step - loss: 372.2011 - mae: 15.5359 - accuracy: 0.0000e+00\n",
            "Epoch 314/400\n",
            "10/10 [==============================] - 0s 2ms/step - loss: 383.2323 - mae: 15.7320 - accuracy: 0.0000e+00\n",
            "Epoch 315/400\n",
            "10/10 [==============================] - 0s 2ms/step - loss: 370.8721 - mae: 15.3592 - accuracy: 0.0000e+00\n",
            "Epoch 316/400\n",
            "10/10 [==============================] - 0s 2ms/step - loss: 419.5372 - mae: 16.2302 - accuracy: 0.0000e+00\n",
            "Epoch 317/400\n",
            "10/10 [==============================] - 0s 2ms/step - loss: 399.9080 - mae: 15.9342 - accuracy: 0.0000e+00\n",
            "Epoch 318/400\n",
            "10/10 [==============================] - 0s 2ms/step - loss: 396.8847 - mae: 15.8592 - accuracy: 0.0000e+00\n",
            "Epoch 319/400\n",
            "10/10 [==============================] - 0s 2ms/step - loss: 371.2585 - mae: 15.3137 - accuracy: 0.0000e+00\n",
            "Epoch 320/400\n",
            "10/10 [==============================] - 0s 2ms/step - loss: 380.4493 - mae: 15.7266 - accuracy: 0.0000e+00\n",
            "Epoch 321/400\n",
            "10/10 [==============================] - 0s 2ms/step - loss: 374.9768 - mae: 15.1548 - accuracy: 0.0000e+00\n",
            "Epoch 322/400\n",
            "10/10 [==============================] - 0s 2ms/step - loss: 382.7883 - mae: 15.5228 - accuracy: 0.0000e+00\n",
            "Epoch 323/400\n",
            "10/10 [==============================] - 0s 2ms/step - loss: 364.7588 - mae: 15.1345 - accuracy: 0.0000e+00\n",
            "Epoch 324/400\n",
            "10/10 [==============================] - 0s 2ms/step - loss: 418.8052 - mae: 16.2535 - accuracy: 0.0000e+00\n",
            "Epoch 325/400\n",
            "10/10 [==============================] - 0s 2ms/step - loss: 401.5885 - mae: 15.9711 - accuracy: 0.0000e+00\n",
            "Epoch 326/400\n",
            "10/10 [==============================] - 0s 2ms/step - loss: 380.0408 - mae: 15.5529 - accuracy: 0.0000e+00\n",
            "Epoch 327/400\n",
            "10/10 [==============================] - 0s 2ms/step - loss: 403.3688 - mae: 16.1085 - accuracy: 0.0000e+00\n",
            "Epoch 328/400\n",
            "10/10 [==============================] - 0s 2ms/step - loss: 366.9864 - mae: 15.3201 - accuracy: 0.0000e+00\n",
            "Epoch 329/400\n",
            "10/10 [==============================] - 0s 2ms/step - loss: 383.6689 - mae: 15.7795 - accuracy: 0.0000e+00\n",
            "Epoch 330/400\n",
            "10/10 [==============================] - 0s 2ms/step - loss: 391.7089 - mae: 15.8479 - accuracy: 0.0000e+00\n",
            "Epoch 331/400\n",
            "10/10 [==============================] - 0s 1ms/step - loss: 407.3542 - mae: 16.1211 - accuracy: 0.0000e+00\n",
            "Epoch 332/400\n",
            "10/10 [==============================] - 0s 2ms/step - loss: 379.6876 - mae: 15.3760 - accuracy: 0.0000e+00\n",
            "Epoch 333/400\n",
            "10/10 [==============================] - 0s 2ms/step - loss: 364.6193 - mae: 15.2898 - accuracy: 0.0000e+00\n",
            "Epoch 334/400\n",
            "10/10 [==============================] - 0s 2ms/step - loss: 402.9735 - mae: 16.1192 - accuracy: 0.0000e+00\n",
            "Epoch 335/400\n",
            "10/10 [==============================] - 0s 2ms/step - loss: 379.7430 - mae: 15.3245 - accuracy: 0.0000e+00\n",
            "Epoch 336/400\n",
            "10/10 [==============================] - 0s 2ms/step - loss: 379.7556 - mae: 15.6440 - accuracy: 0.0000e+00\n",
            "Epoch 337/400\n",
            "10/10 [==============================] - 0s 2ms/step - loss: 362.4590 - mae: 15.2131 - accuracy: 0.0000e+00\n",
            "Epoch 338/400\n",
            "10/10 [==============================] - 0s 2ms/step - loss: 374.9999 - mae: 15.4150 - accuracy: 0.0000e+00\n",
            "Epoch 339/400\n",
            "10/10 [==============================] - 0s 2ms/step - loss: 383.2924 - mae: 15.3589 - accuracy: 0.0000e+00\n",
            "Epoch 340/400\n",
            "10/10 [==============================] - 0s 2ms/step - loss: 396.8199 - mae: 15.8555 - accuracy: 0.0000e+00\n",
            "Epoch 341/400\n",
            "10/10 [==============================] - 0s 2ms/step - loss: 382.6313 - mae: 15.4117 - accuracy: 0.0000e+00\n",
            "Epoch 342/400\n",
            "10/10 [==============================] - 0s 2ms/step - loss: 369.7648 - mae: 15.2550 - accuracy: 0.0000e+00\n",
            "Epoch 343/400\n",
            "10/10 [==============================] - 0s 2ms/step - loss: 405.2612 - mae: 16.2076 - accuracy: 0.0000e+00\n",
            "Epoch 344/400\n",
            "10/10 [==============================] - 0s 2ms/step - loss: 369.4879 - mae: 15.5327 - accuracy: 0.0000e+00\n",
            "Epoch 345/400\n",
            "10/10 [==============================] - 0s 2ms/step - loss: 375.2536 - mae: 15.5089 - accuracy: 0.0000e+00\n",
            "Epoch 346/400\n",
            "10/10 [==============================] - 0s 2ms/step - loss: 387.3466 - mae: 15.5833 - accuracy: 0.0000e+00\n",
            "Epoch 347/400\n",
            "10/10 [==============================] - 0s 1ms/step - loss: 365.6345 - mae: 15.3401 - accuracy: 0.0000e+00\n",
            "Epoch 348/400\n",
            "10/10 [==============================] - 0s 2ms/step - loss: 369.5648 - mae: 15.3329 - accuracy: 0.0000e+00\n",
            "Epoch 349/400\n",
            "10/10 [==============================] - 0s 1ms/step - loss: 395.4559 - mae: 16.0154 - accuracy: 0.0000e+00\n",
            "Epoch 350/400\n",
            "10/10 [==============================] - 0s 2ms/step - loss: 380.6201 - mae: 15.7260 - accuracy: 0.0000e+00\n",
            "Epoch 351/400\n",
            "10/10 [==============================] - 0s 1ms/step - loss: 411.2527 - mae: 16.2119 - accuracy: 0.0000e+00\n",
            "Epoch 352/400\n",
            "10/10 [==============================] - 0s 2ms/step - loss: 396.4364 - mae: 15.8819 - accuracy: 0.0000e+00\n",
            "Epoch 353/400\n",
            "10/10 [==============================] - 0s 2ms/step - loss: 390.8994 - mae: 15.8350 - accuracy: 0.0000e+00\n",
            "Epoch 354/400\n",
            "10/10 [==============================] - 0s 2ms/step - loss: 386.1407 - mae: 15.6290 - accuracy: 0.0000e+00\n",
            "Epoch 355/400\n",
            "10/10 [==============================] - 0s 2ms/step - loss: 367.2611 - mae: 15.2724 - accuracy: 0.0000e+00\n",
            "Epoch 356/400\n",
            "10/10 [==============================] - 0s 1ms/step - loss: 386.5987 - mae: 15.6971 - accuracy: 0.0000e+00\n",
            "Epoch 357/400\n",
            "10/10 [==============================] - 0s 1ms/step - loss: 388.0040 - mae: 15.8172 - accuracy: 0.0000e+00\n",
            "Epoch 358/400\n",
            "10/10 [==============================] - 0s 1ms/step - loss: 372.6941 - mae: 15.4184 - accuracy: 0.0000e+00\n",
            "Epoch 359/400\n",
            "10/10 [==============================] - 0s 1ms/step - loss: 389.3947 - mae: 15.6285 - accuracy: 0.0000e+00\n",
            "Epoch 360/400\n",
            "10/10 [==============================] - 0s 2ms/step - loss: 362.4403 - mae: 15.3514 - accuracy: 0.0000e+00\n",
            "Epoch 361/400\n",
            "10/10 [==============================] - 0s 2ms/step - loss: 403.0253 - mae: 16.1954 - accuracy: 0.0000e+00\n",
            "Epoch 362/400\n",
            "10/10 [==============================] - 0s 2ms/step - loss: 381.3167 - mae: 15.7310 - accuracy: 0.0000e+00\n",
            "Epoch 363/400\n",
            "10/10 [==============================] - 0s 1ms/step - loss: 382.7015 - mae: 15.8205 - accuracy: 0.0000e+00\n",
            "Epoch 364/400\n",
            "10/10 [==============================] - 0s 2ms/step - loss: 383.5908 - mae: 15.5302 - accuracy: 0.0000e+00\n",
            "Epoch 365/400\n",
            "10/10 [==============================] - 0s 1ms/step - loss: 374.0185 - mae: 15.4758 - accuracy: 0.0000e+00\n",
            "Epoch 366/400\n",
            "10/10 [==============================] - 0s 2ms/step - loss: 412.9657 - mae: 16.1737 - accuracy: 0.0000e+00\n",
            "Epoch 367/400\n",
            "10/10 [==============================] - 0s 2ms/step - loss: 381.4388 - mae: 15.5609 - accuracy: 0.0000e+00\n",
            "Epoch 368/400\n",
            "10/10 [==============================] - 0s 2ms/step - loss: 383.8377 - mae: 15.6797 - accuracy: 0.0000e+00\n",
            "Epoch 369/400\n",
            "10/10 [==============================] - 0s 2ms/step - loss: 398.2872 - mae: 15.9180 - accuracy: 0.0000e+00\n",
            "Epoch 370/400\n",
            "10/10 [==============================] - 0s 2ms/step - loss: 402.3271 - mae: 15.9903 - accuracy: 0.0000e+00\n",
            "Epoch 371/400\n",
            "10/10 [==============================] - 0s 2ms/step - loss: 393.7443 - mae: 15.9904 - accuracy: 0.0000e+00\n",
            "Epoch 372/400\n",
            "10/10 [==============================] - 0s 2ms/step - loss: 368.6696 - mae: 15.1872 - accuracy: 0.0000e+00\n",
            "Epoch 373/400\n",
            "10/10 [==============================] - 0s 1ms/step - loss: 408.9376 - mae: 16.2570 - accuracy: 0.0000e+00\n",
            "Epoch 374/400\n",
            "10/10 [==============================] - 0s 2ms/step - loss: 391.0124 - mae: 15.7551 - accuracy: 0.0000e+00\n",
            "Epoch 375/400\n",
            "10/10 [==============================] - 0s 2ms/step - loss: 376.6549 - mae: 15.6305 - accuracy: 0.0000e+00\n",
            "Epoch 376/400\n",
            "10/10 [==============================] - 0s 2ms/step - loss: 399.4488 - mae: 16.0519 - accuracy: 0.0000e+00\n",
            "Epoch 377/400\n",
            "10/10 [==============================] - 0s 2ms/step - loss: 373.9704 - mae: 15.6440 - accuracy: 0.0000e+00\n",
            "Epoch 378/400\n",
            "10/10 [==============================] - 0s 2ms/step - loss: 382.9253 - mae: 15.6619 - accuracy: 0.0000e+00\n",
            "Epoch 379/400\n",
            "10/10 [==============================] - 0s 2ms/step - loss: 360.5170 - mae: 15.2923 - accuracy: 0.0000e+00\n",
            "Epoch 380/400\n",
            "10/10 [==============================] - 0s 2ms/step - loss: 369.5351 - mae: 15.1347 - accuracy: 0.0000e+00\n",
            "Epoch 381/400\n",
            "10/10 [==============================] - 0s 2ms/step - loss: 403.9312 - mae: 16.2224 - accuracy: 0.0000e+00\n",
            "Epoch 382/400\n",
            "10/10 [==============================] - 0s 2ms/step - loss: 365.5648 - mae: 15.2306 - accuracy: 0.0000e+00\n",
            "Epoch 383/400\n",
            "10/10 [==============================] - 0s 2ms/step - loss: 379.6774 - mae: 15.5529 - accuracy: 0.0000e+00\n",
            "Epoch 384/400\n",
            "10/10 [==============================] - 0s 2ms/step - loss: 368.1212 - mae: 15.4462 - accuracy: 0.0000e+00\n",
            "Epoch 385/400\n",
            "10/10 [==============================] - 0s 1ms/step - loss: 363.3614 - mae: 15.4853 - accuracy: 0.0000e+00\n",
            "Epoch 386/400\n",
            "10/10 [==============================] - 0s 1ms/step - loss: 393.5422 - mae: 15.7392 - accuracy: 0.0000e+00\n",
            "Epoch 387/400\n",
            "10/10 [==============================] - 0s 1ms/step - loss: 400.8302 - mae: 16.0900 - accuracy: 0.0000e+00\n",
            "Epoch 388/400\n",
            "10/10 [==============================] - 0s 1ms/step - loss: 370.1379 - mae: 15.2926 - accuracy: 0.0000e+00\n",
            "Epoch 389/400\n",
            "10/10 [==============================] - 0s 2ms/step - loss: 400.5319 - mae: 16.1206 - accuracy: 0.0000e+00\n",
            "Epoch 390/400\n",
            "10/10 [==============================] - 0s 2ms/step - loss: 414.9687 - mae: 16.1094 - accuracy: 0.0000e+00\n",
            "Epoch 391/400\n",
            "10/10 [==============================] - 0s 2ms/step - loss: 364.4105 - mae: 15.3982 - accuracy: 0.0000e+00\n",
            "Epoch 392/400\n",
            "10/10 [==============================] - 0s 1ms/step - loss: 394.9000 - mae: 15.7985 - accuracy: 0.0000e+00\n",
            "Epoch 393/400\n",
            "10/10 [==============================] - 0s 2ms/step - loss: 392.9397 - mae: 15.8513 - accuracy: 0.0000e+00\n",
            "Epoch 394/400\n",
            "10/10 [==============================] - 0s 2ms/step - loss: 413.5719 - mae: 16.1926 - accuracy: 0.0000e+00\n",
            "Epoch 395/400\n",
            "10/10 [==============================] - 0s 2ms/step - loss: 385.9668 - mae: 15.6878 - accuracy: 0.0000e+00\n",
            "Epoch 396/400\n",
            "10/10 [==============================] - 0s 1ms/step - loss: 388.5551 - mae: 15.8088 - accuracy: 0.0000e+00\n",
            "Epoch 397/400\n",
            "10/10 [==============================] - 0s 1ms/step - loss: 379.6533 - mae: 15.4996 - accuracy: 0.0000e+00\n",
            "Epoch 398/400\n",
            "10/10 [==============================] - 0s 2ms/step - loss: 372.5958 - mae: 15.3483 - accuracy: 0.0000e+00\n",
            "Epoch 399/400\n",
            "10/10 [==============================] - 0s 2ms/step - loss: 383.5528 - mae: 15.5753 - accuracy: 0.0000e+00\n",
            "Epoch 400/400\n",
            "10/10 [==============================] - 0s 2ms/step - loss: 381.8443 - mae: 15.6068 - accuracy: 0.0000e+00\n"
          ],
          "name": "stdout"
        }
      ]
    },
    {
      "cell_type": "code",
      "metadata": {
        "id": "OyMwTMWBh8CD",
        "outputId": "b81ab19d-fce7-4485-8d3b-36a87e825c87",
        "colab": {
          "base_uri": "https://localhost:8080/",
          "height": 282
        }
      },
      "source": [
        "plt.plot(history.history['loss'])"
      ],
      "execution_count": 82,
      "outputs": [
        {
          "output_type": "execute_result",
          "data": {
            "text/plain": [
              "[<matplotlib.lines.Line2D at 0x7f1eee1430b8>]"
            ]
          },
          "metadata": {
            "tags": []
          },
          "execution_count": 82
        },
        {
          "output_type": "display_data",
          "data": {
            "image/png": "[encoded data removed]",
            "text/plain": [
              "<Figure size 432x288 with 1 Axes>"
            ]
          },
          "metadata": {
            "tags": [],
            "needs_background": "light"
          }
        }
      ]
    },
    {
      "cell_type": "code",
      "metadata": {
        "id": "eiPTlEmJh8CE"
      },
      "source": [
        "lr3.get_weights()"
      ],
      "execution_count": null,
      "outputs": []
    },
    {
      "cell_type": "markdown",
      "metadata": {
        "id": "u3rBV2NTh8CE"
      },
      "source": [
        "### Using the Keras Functional API\n",
        "\n"
      ]
    },
    {
      "cell_type": "code",
      "metadata": {
        "id": "-WkPcWf2h8CE"
      },
      "source": [
        "from keras.layers import Input, Dense\n",
        "from keras.models import Model\n",
        "\n",
        "inputs_placeholder = Input(shape=(1,))\n",
        "outputs_placeholder = Dense(1, activation='linear')(inputs_placeholder)\n",
        "\n",
        "m = Model(inputs=inputs_placeholder, outputs=outputs_placeholder)\n",
        "m.compile(optimizer='sgd', loss='mean_squared_error',  metrics=['mae','accuracy'])\n",
        "m.summary()"
      ],
      "execution_count": null,
      "outputs": []
    },
    {
      "cell_type": "code",
      "metadata": {
        "id": "iIjQ9R9sh8CF"
      },
      "source": [
        "history2 = m.fit(Xtrain, ytrain, epochs=250, batch_size=80)"
      ],
      "execution_count": null,
      "outputs": []
    },
    {
      "cell_type": "code",
      "metadata": {
        "id": "A03ybFOkh8CF"
      },
      "source": [
        "m.get_weights()"
      ],
      "execution_count": null,
      "outputs": []
    }
  ]
}